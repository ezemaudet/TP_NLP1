{
  "cells": [
    {
      "cell_type": "markdown",
      "metadata": {
        "id": "view-in-github",
        "colab_type": "text"
      },
      "source": [
        "<a href=\"https://colab.research.google.com/github/ezemaudet/TP_NLP1/blob/main/Desafio__3.ipynb\" target=\"_parent\"><img src=\"https://colab.research.google.com/assets/colab-badge.svg\" alt=\"Open In Colab\"/></a>"
      ]
    },
    {
      "cell_type": "markdown",
      "metadata": {
        "id": "g3yeJGnCYxuF"
      },
      "source": [
        "<img src=\"https://github.com/hernancontigiani/ceia_memorias_especializacion/raw/master/Figures/logoFIUBA.jpg\" width=\"500\" align=\"center\">\n",
        "\n",
        "\n",
        "# Procesamiento de lenguaje natural\n",
        "## Modelo de lenguaje con tokenización por caracteres"
      ]
    },
    {
      "cell_type": "markdown",
      "metadata": {
        "id": "Iv5PEwGzZA9-"
      },
      "source": [
        "### Consigna\n",
        "- Seleccionar un corpus de texto sobre el cual entrenar el modelo de lenguaje.\n",
        "- Realizar el pre-procesamiento adecuado para tokenizar el corpus, estructurar el dataset y separar entre datos de entrenamiento y validación.\n",
        "- Proponer arquitecturas de redes neuronales basadas en unidades recurrentes para implementar un modelo de lenguaje.\n",
        "- Con el o los modelos que consideren adecuados, generar nuevas secuencias a partir de secuencias de contexto con las estrategias de greedy search y beam search determístico y estocástico. En este último caso observar el efecto de la temperatura en la generación de secuencias.\n",
        "\n",
        "\n",
        "### Sugerencias\n",
        "- Durante el entrenamiento, guiarse por el descenso de la perplejidad en los datos de validación para finalizar el entrenamiento. Para ello se provee un callback.\n",
        "- Explorar utilizar SimpleRNN (celda de Elman), LSTM y GRU.\n",
        "- rmsprop es el optimizador recomendado para la buena convergencia. No obstante se pueden explorar otros.\n"
      ]
    },
    {
      "cell_type": "code",
      "execution_count": 1,
      "metadata": {
        "id": "Y-QdFbHZYj7C"
      },
      "outputs": [],
      "source": [
        "import random\n",
        "import io\n",
        "import pickle\n",
        "\n",
        "import numpy as np\n",
        "import pandas as pd\n",
        "import matplotlib.pyplot as plt\n",
        "from sklearn.model_selection import train_test_split\n",
        "\n",
        "from tensorflow import keras\n",
        "from tensorflow.keras import layers\n",
        "from keras.utils import to_categorical\n",
        "from keras.models import Sequential\n",
        "from keras.layers import Dense, LSTM, Embedding, Dropout\n",
        "from tensorflow.keras.losses import SparseCategoricalCrossentropy"
      ]
    },
    {
      "cell_type": "markdown",
      "metadata": {
        "id": "xTvXlEKQZdqx"
      },
      "source": [
        "### Datos\n",
        "Utilizaremos como dataset canciones de bandas de habla inglés."
      ]
    },
    {
      "cell_type": "code",
      "execution_count": 2,
      "metadata": {
        "id": "7amy6uUaBLVD"
      },
      "outputs": [],
      "source": [
        "# descargar de textos.info\n",
        "import urllib.request\n",
        "\n",
        "# Para leer y parsear el texto en HTML de wikipedia\n",
        "import bs4 as bs"
      ]
    },
    {
      "cell_type": "code",
      "execution_count": 3,
      "metadata": {
        "id": "6v_ickFwBJTy"
      },
      "outputs": [],
      "source": [
        "raw_html = urllib.request.urlopen('https://www.textos.info/franz-kafka/la-metamorfosis/ebook')\n",
        "raw_html = raw_html.read()\n",
        "\n",
        "# Parsear artículo, 'lxml' es el parser a utilizar\n",
        "article_html = bs.BeautifulSoup(raw_html, 'lxml')\n",
        "\n",
        "# Encontrar todos los párrafos del HTML (bajo el tag <p>)\n",
        "# y tenerlos disponible como lista\n",
        "article_paragraphs = article_html.find_all('p')\n",
        "\n",
        "article_text = ''\n",
        "\n",
        "for para in article_paragraphs:\n",
        "    article_text += para.text + ' '\n",
        "\n",
        "# pasar todo el texto a minúscula\n",
        "article_text = article_text.lower()"
      ]
    },
    {
      "cell_type": "code",
      "execution_count": 4,
      "metadata": {
        "id": "WBE0sSYuB-E6",
        "colab": {
          "base_uri": "https://localhost:8080/",
          "height": 182
        },
        "outputId": "8d4aa308-c6c7-4b91-830a-cb34d83f2e4f"
      },
      "outputs": [
        {
          "output_type": "execute_result",
          "data": {
            "text/plain": [
              "' cuando gregorio samsa se despertó una mañana después de un sueño \\r\\nintranquilo, se encontró sobre su cama convertido en un monstruoso \\r\\ninsecto. estaba tumbado sobre su espalda dura, y en forma de caparazón \\r\\ny, al levantar un poco la cabeza veía un vientre abombado, parduzco, \\r\\ndividido por partes duras en forma de arco, sobre cuya protuberancia \\r\\napenas podía mantenerse el cobertor, a punto ya de resbalar al suelo. \\r\\nsus muchas patas, ridículamente pequeñas en comparación con el resto de \\r\\nsu tamaño, le vibraban desamparadas ante los ojos. «¿qué me ha ocurrido?», pensó. no era un sueño. su habitación, una auténtica habitación humana, si \\r\\nbien algo pequeña, permanecía tranquila entre las cuatro paredes harto \\r\\nconocidas. por encima de la mesa, sobre la que se encontraba extendido \\r\\nun muestrario de paños desempaquetados —samsa era viajante de comercio—,\\r\\n estaba colgado aquel cuadro que hacía poco había recortado de una \\r\\nrevista y había colocado en un bonito marco dorado. represent'"
            ],
            "application/vnd.google.colaboratory.intrinsic+json": {
              "type": "string"
            }
          },
          "metadata": {},
          "execution_count": 4
        }
      ],
      "source": [
        "# en article text se encuentra el texto de todo el libro\n",
        "article_text[:1000]"
      ]
    },
    {
      "cell_type": "markdown",
      "metadata": {
        "id": "cP1JdiOIKQWi"
      },
      "source": [
        "### Elegir el tamaño del contexto\n",
        "\n",
        "En este caso, como el modelo de lenguaje es por caracteres, todo un gran corpus\n",
        "de texto puede ser considerado un documento en sí mismo y el tamaño de contexto\n",
        "puede ser elegido con más libertad en comparación a un modelo de lenguaje tokenizado por palabras y dividido en documentos más acotados."
      ]
    },
    {
      "cell_type": "code",
      "execution_count": 5,
      "metadata": {
        "id": "wumBNwdjJM3j"
      },
      "outputs": [],
      "source": [
        "# seleccionamos el tamaño de contexto\n",
        "max_context_size = 100"
      ]
    },
    {
      "cell_type": "code",
      "execution_count": 6,
      "metadata": {
        "id": "m5FeTaGvbDbw"
      },
      "outputs": [],
      "source": [
        "# Usaremos las utilidades de procesamiento de textos y secuencias de Keras\n",
        "from tensorflow.keras.utils import pad_sequences # se utilizará para padding"
      ]
    },
    {
      "cell_type": "code",
      "execution_count": 7,
      "metadata": {
        "id": "573Cg5n7VhWw"
      },
      "outputs": [],
      "source": [
        "# en este caso el vocabulario es el conjunto único de caracteres que existe en todo el texto\n",
        "chars_vocab = set(article_text)"
      ]
    },
    {
      "cell_type": "code",
      "execution_count": 8,
      "metadata": {
        "id": "VwTK6xgLJd8q",
        "colab": {
          "base_uri": "https://localhost:8080/"
        },
        "outputId": "e3987ed6-9d4d-4287-aab0-956cd153146f"
      },
      "outputs": [
        {
          "output_type": "execute_result",
          "data": {
            "text/plain": [
              "60"
            ]
          },
          "metadata": {},
          "execution_count": 8
        }
      ],
      "source": [
        "# la longitud de vocabulario de caracteres es:\n",
        "len(chars_vocab)"
      ]
    },
    {
      "cell_type": "code",
      "source": [
        "chars_vocab"
      ],
      "metadata": {
        "colab": {
          "base_uri": "https://localhost:8080/"
        },
        "id": "7Q4mOCwHsFoY",
        "outputId": "4fa0a430-a264-409d-ef6b-d0f44beb3325"
      },
      "execution_count": 9,
      "outputs": [
        {
          "output_type": "execute_result",
          "data": {
            "text/plain": [
              "{'\\t',\n",
              " '\\n',\n",
              " '\\r',\n",
              " ' ',\n",
              " '!',\n",
              " '(',\n",
              " ')',\n",
              " ',',\n",
              " '-',\n",
              " '.',\n",
              " '/',\n",
              " '0',\n",
              " '1',\n",
              " '2',\n",
              " '3',\n",
              " '4',\n",
              " '5',\n",
              " '6',\n",
              " '7',\n",
              " '8',\n",
              " ':',\n",
              " ';',\n",
              " '?',\n",
              " 'a',\n",
              " 'b',\n",
              " 'c',\n",
              " 'd',\n",
              " 'e',\n",
              " 'f',\n",
              " 'g',\n",
              " 'h',\n",
              " 'i',\n",
              " 'j',\n",
              " 'l',\n",
              " 'm',\n",
              " 'n',\n",
              " 'o',\n",
              " 'p',\n",
              " 'q',\n",
              " 'r',\n",
              " 's',\n",
              " 't',\n",
              " 'u',\n",
              " 'v',\n",
              " 'w',\n",
              " 'x',\n",
              " 'y',\n",
              " 'z',\n",
              " '¡',\n",
              " '«',\n",
              " '»',\n",
              " '¿',\n",
              " 'á',\n",
              " 'é',\n",
              " 'í',\n",
              " 'ñ',\n",
              " 'ó',\n",
              " 'ú',\n",
              " 'ü',\n",
              " '—'}"
            ]
          },
          "metadata": {},
          "execution_count": 9
        }
      ]
    },
    {
      "cell_type": "code",
      "execution_count": 10,
      "metadata": {
        "id": "2W0AeQjXV1Ou"
      },
      "outputs": [],
      "source": [
        "# Construimos los dicionarios que asignan índices a caracteres y viceversa.\n",
        "# El diccionario `char2idx` servirá como tokenizador.\n",
        "char2idx = {k: v for v,k in enumerate(chars_vocab)}\n",
        "idx2char = {v: k for k,v in char2idx.items()}"
      ]
    },
    {
      "cell_type": "markdown",
      "metadata": {
        "id": "2oIUjVU0LB0r"
      },
      "source": [
        "###  Tokenizar"
      ]
    },
    {
      "cell_type": "code",
      "execution_count": 11,
      "metadata": {
        "id": "h07G3srdJppo"
      },
      "outputs": [],
      "source": [
        "# tokenizamos el texto completo\n",
        "tokenized_text = [char2idx[ch] for ch in article_text]"
      ]
    },
    {
      "cell_type": "code",
      "execution_count": 12,
      "metadata": {
        "id": "PwGVSKOiJ5bj",
        "colab": {
          "base_uri": "https://localhost:8080/"
        },
        "outputId": "56a01ca7-5120-4b42-dfd4-aaf101549a70"
      },
      "outputs": [
        {
          "output_type": "execute_result",
          "data": {
            "text/plain": [
              "[16,\n",
              " 6,\n",
              " 49,\n",
              " 11,\n",
              " 15,\n",
              " 51,\n",
              " 17,\n",
              " 16,\n",
              " 40,\n",
              " 12,\n",
              " 46,\n",
              " 40,\n",
              " 17,\n",
              " 12,\n",
              " 35,\n",
              " 17,\n",
              " 16,\n",
              " 47,\n",
              " 11,\n",
              " 50,\n",
              " 47,\n",
              " 11,\n",
              " 16,\n",
              " 47,\n",
              " 46,\n",
              " 16,\n",
              " 51,\n",
              " 46,\n",
              " 47,\n",
              " 57,\n",
              " 46,\n",
              " 12,\n",
              " 44,\n",
              " 39,\n",
              " 16,\n",
              " 49,\n",
              " 15,\n",
              " 11,\n",
              " 16,\n",
              " 50,\n",
              " 11,\n",
              " 21,\n",
              " 11,\n",
              " 15,\n",
              " 11,\n",
              " 16,\n",
              " 51,\n",
              " 46,\n",
              " 47,\n",
              " 57,\n",
              " 49,\n",
              " 30,\n",
              " 47,\n",
              " 16,\n",
              " 51,\n",
              " 46,\n",
              " 16,\n",
              " 49,\n",
              " 15,\n",
              " 16,\n",
              " 47,\n",
              " 49,\n",
              " 46,\n",
              " 21,\n",
              " 17,\n",
              " 16,\n",
              " 45,\n",
              " 59,\n",
              " 35,\n",
              " 15,\n",
              " 44,\n",
              " 12,\n",
              " 11,\n",
              " 15,\n",
              " 52,\n",
              " 49,\n",
              " 35,\n",
              " 9,\n",
              " 17,\n",
              " 2,\n",
              " 16,\n",
              " 47,\n",
              " 46,\n",
              " 16,\n",
              " 46,\n",
              " 15,\n",
              " 6,\n",
              " 17,\n",
              " 15,\n",
              " 44,\n",
              " 12,\n",
              " 39,\n",
              " 16,\n",
              " 47,\n",
              " 17,\n",
              " 4,\n",
              " 12,\n",
              " 46,\n",
              " 16,\n",
              " 47,\n",
              " 49,\n",
              " 16,\n",
              " 6,\n",
              " 11,\n",
              " 50,\n",
              " 11,\n",
              " 16,\n",
              " 6,\n",
              " 17,\n",
              " 15,\n",
              " 48,\n",
              " 46,\n",
              " 12,\n",
              " 44,\n",
              " 35,\n",
              " 51,\n",
              " 17,\n",
              " 16,\n",
              " 46,\n",
              " 15,\n",
              " 16,\n",
              " 49,\n",
              " 15,\n",
              " 16,\n",
              " 50,\n",
              " 17,\n",
              " 15,\n",
              " 47,\n",
              " 44,\n",
              " 12,\n",
              " 49,\n",
              " 17,\n",
              " 47,\n",
              " 17,\n",
              " 16,\n",
              " 45,\n",
              " 59,\n",
              " 35,\n",
              " 15,\n",
              " 47,\n",
              " 46,\n",
              " 6,\n",
              " 44,\n",
              " 17,\n",
              " 19,\n",
              " 16,\n",
              " 46,\n",
              " 47,\n",
              " 44,\n",
              " 11,\n",
              " 4,\n",
              " 11,\n",
              " 16,\n",
              " 44,\n",
              " 49,\n",
              " 50,\n",
              " 4,\n",
              " 11,\n",
              " 51,\n",
              " 17,\n",
              " 16,\n",
              " 47,\n",
              " 17,\n",
              " 4,\n",
              " 12,\n",
              " 46,\n",
              " 16,\n",
              " 47,\n",
              " 49,\n",
              " 16,\n",
              " 46,\n",
              " 47,\n",
              " 57,\n",
              " 11,\n",
              " 9,\n",
              " 51,\n",
              " 11,\n",
              " 16,\n",
              " 51,\n",
              " 49,\n",
              " 12,\n",
              " 11,\n",
              " 2,\n",
              " 16,\n",
              " 36,\n",
              " 16,\n",
              " 46,\n",
              " 15,\n",
              " 16,\n",
              " 20,\n",
              " 17,\n",
              " 12,\n",
              " 50,\n",
              " 11,\n",
              " 16,\n",
              " 51,\n",
              " 46,\n",
              " 16,\n",
              " 6,\n",
              " 11,\n",
              " 57,\n",
              " 11,\n",
              " 12,\n",
              " 11,\n",
              " 53,\n",
              " 39,\n",
              " 15,\n",
              " 16,\n",
              " 45,\n",
              " 59,\n",
              " 36,\n",
              " 2,\n",
              " 16,\n",
              " 11,\n",
              " 9,\n",
              " 16,\n",
              " 9,\n",
              " 46,\n",
              " 48,\n",
              " 11,\n",
              " 15,\n",
              " 44,\n",
              " 11,\n",
              " 12,\n",
              " 16,\n",
              " 49,\n",
              " 15,\n",
              " 16,\n",
              " 57,\n",
              " 17,\n",
              " 6,\n",
              " 17,\n",
              " 16,\n",
              " 9,\n",
              " 11,\n",
              " 16,\n",
              " 6,\n",
              " 11,\n",
              " 4,\n",
              " 46,\n",
              " 53,\n",
              " 11,\n",
              " 16,\n",
              " 48,\n",
              " 46,\n",
              " 54,\n",
              " 11,\n",
              " 16,\n",
              " 49,\n",
              " 15,\n",
              " 16,\n",
              " 48,\n",
              " 35,\n",
              " 46,\n",
              " 15,\n",
              " 44,\n",
              " 12,\n",
              " 46,\n",
              " 16,\n",
              " 11,\n",
              " 4,\n",
              " 17,\n",
              " 50,\n",
              " 4,\n",
              " 11,\n",
              " 51,\n",
              " 17,\n",
              " 2,\n",
              " 16,\n",
              " 57,\n",
              " 11,\n",
              " 12,\n",
              " 51,\n",
              " 49,\n",
              " 53,\n",
              " 6,\n",
              " 17,\n",
              " 2,\n",
              " 16,\n",
              " 45,\n",
              " 59,\n",
              " 51,\n",
              " 35,\n",
              " 48,\n",
              " 35,\n",
              " 51,\n",
              " 35,\n",
              " 51,\n",
              " 17,\n",
              " 16,\n",
              " 57,\n",
              " 17,\n",
              " 12,\n",
              " 16,\n",
              " 57,\n",
              " 11,\n",
              " 12,\n",
              " 44,\n",
              " 46,\n",
              " 47,\n",
              " 16,\n",
              " 51,\n",
              " 49,\n",
              " 12,\n",
              " 11,\n",
              " 47,\n",
              " 16,\n",
              " 46,\n",
              " 15,\n",
              " 16,\n",
              " 20,\n",
              " 17,\n",
              " 12,\n",
              " 50,\n",
              " 11,\n",
              " 16,\n",
              " 51,\n",
              " 46,\n",
              " 16,\n",
              " 11,\n",
              " 12,\n",
              " 6,\n",
              " 17,\n",
              " 2,\n",
              " 16,\n",
              " 47,\n",
              " 17,\n",
              " 4,\n",
              " 12,\n",
              " 46,\n",
              " 16,\n",
              " 6,\n",
              " 49,\n",
              " 36,\n",
              " 11,\n",
              " 16,\n",
              " 57,\n",
              " 12,\n",
              " 17,\n",
              " 44,\n",
              " 49,\n",
              " 4,\n",
              " 46,\n",
              " 12,\n",
              " 11,\n",
              " 15,\n",
              " 6,\n",
              " 35,\n",
              " 11,\n",
              " 16,\n",
              " 45,\n",
              " 59,\n",
              " 11,\n",
              " 57,\n",
              " 46,\n",
              " 15,\n",
              " 11,\n",
              " 47,\n",
              " 16,\n",
              " 57,\n",
              " 17,\n",
              " 51,\n",
              " 54,\n",
              " 11,\n",
              " 16,\n",
              " 50,\n",
              " 11,\n",
              " 15,\n",
              " 44,\n",
              " 46,\n",
              " 15,\n",
              " 46,\n",
              " 12,\n",
              " 47,\n",
              " 46,\n",
              " 16,\n",
              " 46,\n",
              " 9,\n",
              " 16,\n",
              " 6,\n",
              " 17,\n",
              " 4,\n",
              " 46,\n",
              " 12,\n",
              " 44,\n",
              " 17,\n",
              " 12,\n",
              " 2,\n",
              " 16,\n",
              " 11,\n",
              " 16,\n",
              " 57,\n",
              " 49,\n",
              " 15,\n",
              " 44,\n",
              " 17,\n",
              " 16,\n",
              " 36,\n",
              " 11,\n",
              " 16,\n",
              " 51,\n",
              " 46,\n",
              " 16,\n",
              " 12,\n",
              " 46,\n",
              " 47,\n",
              " 4,\n",
              " 11,\n",
              " 9,\n",
              " 11,\n",
              " 12,\n",
              " 16,\n",
              " 11,\n",
              " 9,\n",
              " 16,\n",
              " 47,\n",
              " 49,\n",
              " 46,\n",
              " 9,\n",
              " 17,\n",
              " 19,\n",
              " 16,\n",
              " 45,\n",
              " 59,\n",
              " 47,\n",
              " 49,\n",
              " 47,\n",
              " 16,\n",
              " 50,\n",
              " 49,\n",
              " 6,\n",
              " 23,\n",
              " 11,\n",
              " 47,\n",
              " 16,\n",
              " 57,\n",
              " 11,\n",
              " 44,\n",
              " 11,\n",
              " 47,\n",
              " 2,\n",
              " 16,\n",
              " 12,\n",
              " 35,\n",
              " 51,\n",
              " 54,\n",
              " 6,\n",
              " 49,\n",
              " 9,\n",
              " 11,\n",
              " 50,\n",
              " 46,\n",
              " 15,\n",
              " 44,\n",
              " 46,\n",
              " 16,\n",
              " 57,\n",
              " 46,\n",
              " 52,\n",
              " 49,\n",
              " 46,\n",
              " 21,\n",
              " 11,\n",
              " 47,\n",
              " 16,\n",
              " 46,\n",
              " 15,\n",
              " 16,\n",
              " 6,\n",
              " 17,\n",
              " 50,\n",
              " 57,\n",
              " 11,\n",
              " 12,\n",
              " 11,\n",
              " 6,\n",
              " 35,\n",
              " 39,\n",
              " 15,\n",
              " 16,\n",
              " 6,\n",
              " 17,\n",
              " 15,\n",
              " 16,\n",
              " 46,\n",
              " 9,\n",
              " 16,\n",
              " 12,\n",
              " 46,\n",
              " 47,\n",
              " 44,\n",
              " 17,\n",
              " 16,\n",
              " 51,\n",
              " 46,\n",
              " 16,\n",
              " 45,\n",
              " 59,\n",
              " 47,\n",
              " 49,\n",
              " 16,\n",
              " 44,\n",
              " 11,\n",
              " 50,\n",
              " 11,\n",
              " 21,\n",
              " 17,\n",
              " 2,\n",
              " 16,\n",
              " 9,\n",
              " 46,\n",
              " 16,\n",
              " 48,\n",
              " 35,\n",
              " 4,\n",
              " 12,\n",
              " 11,\n",
              " 4,\n",
              " 11,\n",
              " 15,\n",
              " 16,\n",
              " 51,\n",
              " 46,\n",
              " 47,\n",
              " 11,\n",
              " 50,\n",
              " 57,\n",
              " 11,\n",
              " 12,\n",
              " 11,\n",
              " 51,\n",
              " 11,\n",
              " 47,\n",
              " 16,\n",
              " 11,\n",
              " 15,\n",
              " 44,\n",
              " 46,\n",
              " 16,\n",
              " 9,\n",
              " 17,\n",
              " 47,\n",
              " 16,\n",
              " 17,\n",
              " 13,\n",
              " 17,\n",
              " 47,\n",
              " 19,\n",
              " 16,\n",
              " 10,\n",
              " 38,\n",
              " 52,\n",
              " 49,\n",
              " 30,\n",
              " 16,\n",
              " 50,\n",
              " 46,\n",
              " 16,\n",
              " 23,\n",
              " 11,\n",
              " 16,\n",
              " 17,\n",
              " 6,\n",
              " 49,\n",
              " 12,\n",
              " 12,\n",
              " 35,\n",
              " 51,\n",
              " 17,\n",
              " 31,\n",
              " 41,\n",
              " 2,\n",
              " 16,\n",
              " 57,\n",
              " 46,\n",
              " 15,\n",
              " 47,\n",
              " 39,\n",
              " 19,\n",
              " 16,\n",
              " 15,\n",
              " 17,\n",
              " 16,\n",
              " 46,\n",
              " 12,\n",
              " 11,\n",
              " 16,\n",
              " 49,\n",
              " 15,\n",
              " 16,\n",
              " 47,\n",
              " 49,\n",
              " 46,\n",
              " 21,\n",
              " 17,\n",
              " 19,\n",
              " 16,\n",
              " 47,\n",
              " 49,\n",
              " 16,\n",
              " 23,\n",
              " 11,\n",
              " 4,\n",
              " 35,\n",
              " 44,\n",
              " 11,\n",
              " 6,\n",
              " 35,\n",
              " 39,\n",
              " 15,\n",
              " 2,\n",
              " 16,\n",
              " 49,\n",
              " 15,\n",
              " 11,\n",
              " 16,\n",
              " 11,\n",
              " 49,\n",
              " 44,\n",
              " 30,\n",
              " 15,\n",
              " 44,\n",
              " 35,\n",
              " 6,\n",
              " 11,\n",
              " 16,\n",
              " 23,\n",
              " 11,\n",
              " 4,\n",
              " 35,\n",
              " 44,\n",
              " 11,\n",
              " 6,\n",
              " 35,\n",
              " 39,\n",
              " 15,\n",
              " 16,\n",
              " 23,\n",
              " 49,\n",
              " 50,\n",
              " 11,\n",
              " 15,\n",
              " 11,\n",
              " 2,\n",
              " 16,\n",
              " 47,\n",
              " 35,\n",
              " 16,\n",
              " 45,\n",
              " 59,\n",
              " 4,\n",
              " 35,\n",
              " 46,\n",
              " 15,\n",
              " 16,\n",
              " 11,\n",
              " 9,\n",
              " 40,\n",
              " 17,\n",
              " 16,\n",
              " 57,\n",
              " 46,\n",
              " 52,\n",
              " 49,\n",
              " 46,\n",
              " 21,\n",
              " 11,\n",
              " 2,\n",
              " 16,\n",
              " 57,\n",
              " 46,\n",
              " 12,\n",
              " 50,\n",
              " 11,\n",
              " 15,\n",
              " 46,\n",
              " 6,\n",
              " 54,\n",
              " 11,\n",
              " 16,\n",
              " 44,\n",
              " 12,\n",
              " 11,\n",
              " 15,\n",
              " 52,\n",
              " 49,\n",
              " 35,\n",
              " 9,\n",
              " 11,\n",
              " 16,\n",
              " 46,\n",
              " 15,\n",
              " 44,\n",
              " 12,\n",
              " 46,\n",
              " 16,\n",
              " 9,\n",
              " 11,\n",
              " 47,\n",
              " 16,\n",
              " 6,\n",
              " 49,\n",
              " 11,\n",
              " 44,\n",
              " 12,\n",
              " 17,\n",
              " 16,\n",
              " 57,\n",
              " 11,\n",
              " 12,\n",
              " 46,\n",
              " 51,\n",
              " 46,\n",
              " 47,\n",
              " 16,\n",
              " 23,\n",
              " 11,\n",
              " 12,\n",
              " 44,\n",
              " 17,\n",
              " 16,\n",
              " 45,\n",
              " 59,\n",
              " 6,\n",
              " 17,\n",
              " 15,\n",
              " 17,\n",
              " 6,\n",
              " 35,\n",
              " 51,\n",
              " 11,\n",
              " 47,\n",
              " 19,\n",
              " 16,\n",
              " 57,\n",
              " 17,\n",
              " 12,\n",
              " 16,\n",
              " 46,\n",
              " 15,\n",
              " 6,\n",
              " 35,\n",
              " 50,\n",
              " 11,\n",
              " 16,\n",
              " 51,\n",
              " 46,\n",
              " 16,\n",
              " 9,\n",
              " 11,\n",
              " 16,\n",
              " 50,\n",
              " 46,\n",
              " 47,\n",
              " 11,\n",
              " 2,\n",
              " 16,\n",
              " 47,\n",
              " 17,\n",
              " 4,\n",
              " 12,\n",
              " 46,\n",
              " 16,\n",
              " 9,\n",
              " 11,\n",
              " 16,\n",
              " 52,\n",
              " 49,\n",
              " 46,\n",
              " 16,\n",
              " 47,\n",
              " 46,\n",
              " 16,\n",
              " 46,\n",
              " 15,\n",
              " 6,\n",
              " 17,\n",
              " 15,\n",
              " 44,\n",
              " 12,\n",
              " 11,\n",
              " 4,\n",
              " 11,\n",
              " 16,\n",
              " 46,\n",
              " 55,\n",
              " 44,\n",
              " 46,\n",
              " 15,\n",
              " 51,\n",
              " 35,\n",
              " 51,\n",
              " 17,\n",
              " 16,\n",
              " 45,\n",
              " 59,\n",
              " 49,\n",
              " 15,\n",
              " 16,\n",
              " 50,\n",
              " 49,\n",
              " 46,\n",
              " 47,\n",
              " 44,\n",
              " 12,\n",
              " 11,\n",
              " 12,\n",
              " 35,\n",
              " 17,\n",
              " 16,\n",
              " 51,\n",
              " 46,\n",
              " 16,\n",
              " 57,\n",
              " 11,\n",
              " 21,\n",
              " 17,\n",
              " 47,\n",
              " 16,\n",
              " 51,\n",
              " 46,\n",
              " 47,\n",
              " 46,\n",
              " 50,\n",
              " 57,\n",
              " 11,\n",
              " 52,\n",
              " 49,\n",
              " 46,\n",
              " 44,\n",
              " 11,\n",
              " 51,\n",
              " 17,\n",
              " 47,\n",
              " 16,\n",
              " 42,\n",
              " 47,\n",
              " 11,\n",
              " 50,\n",
              " 47,\n",
              " 11,\n",
              " 16,\n",
              " 46,\n",
              " 12,\n",
              " 11,\n",
              " 16,\n",
              " 48,\n",
              " 35,\n",
              " 11,\n",
              " 13,\n",
              " 11,\n",
              " 15,\n",
              " 44,\n",
              " 46,\n",
              " 16,\n",
              " 51,\n",
              " 46,\n",
              " 16,\n",
              " 6,\n",
              " 17,\n",
              " 50,\n",
              " 46,\n",
              " 12,\n",
              " 6,\n",
              " 35,\n",
              " 17,\n",
              " 42,\n",
              " 2,\n",
              " 45,\n",
              " 59,\n",
              " 16,\n",
              " 46,\n",
              " 47,\n",
              " 44,\n",
              " 11,\n",
              " 4,\n",
              " 11,\n",
              " 16,\n",
              " 6,\n",
              " 17,\n",
              " 9,\n",
              " 40,\n",
              " 11,\n",
              " 51,\n",
              " 17,\n",
              " 16,\n",
              " 11,\n",
              " 52,\n",
              " 49,\n",
              " 46,\n",
              " 9,\n",
              " 16,\n",
              " 6,\n",
              " 49,\n",
              " 11,\n",
              " 51,\n",
              " 12,\n",
              " 17,\n",
              " 16,\n",
              " 52,\n",
              " 49,\n",
              " 46,\n",
              " 16,\n",
              " 23,\n",
              " 11,\n",
              " 6,\n",
              " 54,\n",
              " 11,\n",
              " 16,\n",
              " 57,\n",
              " 17,\n",
              " 6,\n",
              " 17,\n",
              " 16,\n",
              " 23,\n",
              " 11,\n",
              " 4,\n",
              " 54,\n",
              " 11,\n",
              " 16,\n",
              " 12,\n",
              " 46,\n",
              " 6,\n",
              " 17,\n",
              " 12,\n",
              " 44,\n",
              " 11,\n",
              " 51,\n",
              " 17,\n",
              " 16,\n",
              " 51,\n",
              " 46,\n",
              " 16,\n",
              " 49,\n",
              " 15,\n",
              " 11,\n",
              " 16,\n",
              " 45,\n",
              " 59,\n",
              " 12,\n",
              " 46,\n",
              " 48,\n",
              " 35,\n",
              " 47,\n",
              " 44,\n",
              " 11,\n",
              " 16,\n",
              " 36,\n",
              " 16,\n",
              " 23,\n",
              " 11,\n",
              " 4,\n",
              " 54,\n",
              " 11,\n",
              " 16,\n",
              " 6,\n",
              " 17,\n",
              " 9,\n",
              " 17,\n",
              " 6,\n",
              " 11,\n",
              " 51,\n",
              " 17,\n",
              " 16,\n",
              " 46,\n",
              " 15,\n",
              " 16,\n",
              " 49,\n",
              " 15,\n",
              " 16,\n",
              " 4,\n",
              " 17,\n",
              " 15,\n",
              " 35,\n",
              " 44,\n",
              " 17,\n",
              " 16,\n",
              " 50,\n",
              " 11,\n",
              " 12,\n",
              " 6,\n",
              " 17,\n",
              " 16,\n",
              " 51,\n",
              " 17,\n",
              " 12,\n",
              " 11,\n",
              " 51,\n",
              " 17,\n",
              " 19,\n",
              " 16,\n",
              " 12,\n",
              " 46,\n",
              " 57,\n",
              " 12,\n",
              " 46,\n",
              " 47,\n",
              " 46,\n",
              " 15,\n",
              " 44]"
            ]
          },
          "metadata": {},
          "execution_count": 12
        }
      ],
      "source": [
        "tokenized_text[:1000]"
      ]
    },
    {
      "cell_type": "markdown",
      "metadata": {
        "id": "pfpYcaypKcI9"
      },
      "source": [
        "### Organizando y estructurando el dataset"
      ]
    },
    {
      "cell_type": "code",
      "execution_count": 13,
      "metadata": {
        "id": "WSSmg9jtKP0T"
      },
      "outputs": [],
      "source": [
        "# separaremos el dataset entre entrenamiento y validación.\n",
        "# `p_val` será la proporción del corpus que se reservará para validación\n",
        "# `num_val` es la cantidad de secuencias de tamaño `max_context_size` que se usará en validación\n",
        "p_val = 0.1\n",
        "num_val = int(np.ceil(len(tokenized_text)*p_val/max_context_size))"
      ]
    },
    {
      "cell_type": "code",
      "execution_count": 14,
      "metadata": {
        "id": "b7dCpGrdKll0"
      },
      "outputs": [],
      "source": [
        "# separamos la porción de texto utilizada en entrenamiento de la de validación.\n",
        "train_text = tokenized_text[:-num_val*max_context_size]\n",
        "val_text = tokenized_text[-num_val*max_context_size:]"
      ]
    },
    {
      "cell_type": "code",
      "execution_count": 15,
      "metadata": {
        "id": "NmxQdxl8LRCg"
      },
      "outputs": [],
      "source": [
        "tokenized_sentences_val = [val_text[init*max_context_size:init*(max_context_size+1)] for init in range(num_val)]"
      ]
    },
    {
      "cell_type": "code",
      "execution_count": 16,
      "metadata": {
        "id": "_gyFT9koLqDm"
      },
      "outputs": [],
      "source": [
        "tokenized_sentences_train = [train_text[init:init+max_context_size] for init in range(len(train_text)-max_context_size+1)]"
      ]
    },
    {
      "cell_type": "code",
      "execution_count": 17,
      "metadata": {
        "id": "oVNqmmLRodT0"
      },
      "outputs": [],
      "source": [
        "X = np.array(tokenized_sentences_train[:-1])\n",
        "y = np.array(tokenized_sentences_train[1:])"
      ]
    },
    {
      "cell_type": "markdown",
      "metadata": {
        "id": "Vken7O4ETsAJ"
      },
      "source": [
        "Nótese que estamos estructurando el problema de aprendizaje como *many-to-many*:\n",
        "\n",
        "Entrada: secuencia de tokens [$x_0$, $x_1$, ..., $x_N$]\n",
        "\n",
        "Target: secuencia de tokens [$x_1$, $x_2$, ..., $x_{N+1}$]\n",
        "\n",
        "De manera que la red tiene que aprender que su salida deben ser los tokens desplazados en una posición y un nuevo token predicho (el N+1).\n",
        "\n",
        "La ventaja de estructurar el aprendizaje de esta manera es que para cada token de target se propaga una señal de gradiente por el grafo de cómputo recurrente, que es mejor que estructurar el problema como *many-to-one* en donde sólo una señal de gradiente se propaga."
      ]
    },
    {
      "cell_type": "markdown",
      "metadata": {
        "id": "l3iPTx-UJl6r"
      },
      "source": [
        "En este punto tenemos en la variable `tokenized_sentences` los versos tokenizados. Vamos a quedarnos con un conjunto de validación que utilizaremos para medir la calidad de la generación de secuencias con la métrica de Perplejidad."
      ]
    },
    {
      "cell_type": "code",
      "execution_count": 18,
      "metadata": {
        "id": "KFAyA4zCWE-5",
        "colab": {
          "base_uri": "https://localhost:8080/"
        },
        "outputId": "b67261c2-ad12-49c4-e188-d6d7afa9e4f8"
      },
      "outputs": [
        {
          "output_type": "execute_result",
          "data": {
            "text/plain": [
              "(112059, 100)"
            ]
          },
          "metadata": {},
          "execution_count": 18
        }
      ],
      "source": [
        "X.shape"
      ]
    },
    {
      "cell_type": "code",
      "execution_count": 19,
      "metadata": {
        "id": "qcKRl70HFTzG",
        "colab": {
          "base_uri": "https://localhost:8080/"
        },
        "outputId": "b865f50c-1af6-401c-bd0d-a32527862f8f"
      },
      "outputs": [
        {
          "output_type": "execute_result",
          "data": {
            "text/plain": [
              "array([16,  6, 49, 11, 15, 51, 17, 16, 40, 12])"
            ]
          },
          "metadata": {},
          "execution_count": 19
        }
      ],
      "source": [
        "X[0,:10]"
      ]
    },
    {
      "cell_type": "code",
      "execution_count": 20,
      "metadata": {
        "id": "TVpLCKSZFXZO",
        "colab": {
          "base_uri": "https://localhost:8080/"
        },
        "outputId": "3bf9d8ac-d4c3-4448-c4dc-4371d747cdaf"
      },
      "outputs": [
        {
          "output_type": "execute_result",
          "data": {
            "text/plain": [
              "array([ 6, 49, 11, 15, 51, 17, 16, 40, 12, 46])"
            ]
          },
          "metadata": {},
          "execution_count": 20
        }
      ],
      "source": [
        "y[0,:10]"
      ]
    },
    {
      "cell_type": "code",
      "execution_count": 21,
      "metadata": {
        "id": "wOFCR-KqbW1N"
      },
      "outputs": [],
      "source": [
        "vocab_size = len(chars_vocab)"
      ]
    },
    {
      "cell_type": "markdown",
      "metadata": {
        "id": "tnnjdAQ5UAEJ"
      },
      "source": [
        "# Definiendo el modelo"
      ]
    },
    {
      "cell_type": "code",
      "execution_count": 22,
      "metadata": {
        "id": "rkMCZvmhrQz4"
      },
      "outputs": [],
      "source": [
        "from keras.layers import Input, TimeDistributed, CategoryEncoding, SimpleRNN, Dense\n",
        "from keras.models import Model, Sequential\n",
        "from keras.layers import LSTM\n",
        "from keras.layers import GRU"
      ]
    },
    {
      "cell_type": "markdown",
      "metadata": {
        "id": "wgz7VKwTUbj6"
      },
      "source": [
        "El modelo que se propone como ejemplo consume los índices de los tokens y los transforma en vectores OHE (en este caso no entrenamos una capa de embedding para caracteres). Esa transformación se logra combinando las capas `CategoryEncoding` que transforma a índices a vectores OHE y `TimeDistributed` que aplica la capa a lo largo de la dimensión \"temporal\" de la secuencia."
      ]
    },
    {
      "cell_type": "code",
      "execution_count": 23,
      "metadata": {
        "id": "Zd2OkfQYs2Q7",
        "colab": {
          "base_uri": "https://localhost:8080/",
          "height": 297
        },
        "outputId": "3928a538-b69a-4fbb-eb94-19dbcb8159aa"
      },
      "outputs": [
        {
          "output_type": "stream",
          "name": "stderr",
          "text": [
            "/usr/local/lib/python3.11/dist-packages/keras/src/layers/core/wrapper.py:27: UserWarning: Do not pass an `input_shape`/`input_dim` argument to a layer. When using Sequential models, prefer using an `Input(shape)` object as the first layer in the model instead.\n",
            "  super().__init__(**kwargs)\n"
          ]
        },
        {
          "output_type": "display_data",
          "data": {
            "text/plain": [
              "\u001b[1mModel: \"sequential\"\u001b[0m\n"
            ],
            "text/html": [
              "<pre style=\"white-space:pre;overflow-x:auto;line-height:normal;font-family:Menlo,'DejaVu Sans Mono',consolas,'Courier New',monospace\"><span style=\"font-weight: bold\">Model: \"sequential\"</span>\n",
              "</pre>\n"
            ]
          },
          "metadata": {}
        },
        {
          "output_type": "display_data",
          "data": {
            "text/plain": [
              "┏━━━━━━━━━━━━━━━━━━━━━━━━━━━━━━━━━┳━━━━━━━━━━━━━━━━━━━━━━━━┳━━━━━━━━━━━━━━━┓\n",
              "┃\u001b[1m \u001b[0m\u001b[1mLayer (type)                   \u001b[0m\u001b[1m \u001b[0m┃\u001b[1m \u001b[0m\u001b[1mOutput Shape          \u001b[0m\u001b[1m \u001b[0m┃\u001b[1m \u001b[0m\u001b[1m      Param #\u001b[0m\u001b[1m \u001b[0m┃\n",
              "┡━━━━━━━━━━━━━━━━━━━━━━━━━━━━━━━━━╇━━━━━━━━━━━━━━━━━━━━━━━━╇━━━━━━━━━━━━━━━┩\n",
              "│ time_distributed                │ (\u001b[38;5;45mNone\u001b[0m, \u001b[38;5;45mNone\u001b[0m, \u001b[38;5;34m60\u001b[0m)       │             \u001b[38;5;34m0\u001b[0m │\n",
              "│ (\u001b[38;5;33mTimeDistributed\u001b[0m)               │                        │               │\n",
              "├─────────────────────────────────┼────────────────────────┼───────────────┤\n",
              "│ lstm (\u001b[38;5;33mLSTM\u001b[0m)                     │ (\u001b[38;5;45mNone\u001b[0m, \u001b[38;5;45mNone\u001b[0m, \u001b[38;5;34m100\u001b[0m)      │        \u001b[38;5;34m64,400\u001b[0m │\n",
              "├─────────────────────────────────┼────────────────────────┼───────────────┤\n",
              "│ dense (\u001b[38;5;33mDense\u001b[0m)                   │ (\u001b[38;5;45mNone\u001b[0m, \u001b[38;5;45mNone\u001b[0m, \u001b[38;5;34m60\u001b[0m)       │         \u001b[38;5;34m6,060\u001b[0m │\n",
              "└─────────────────────────────────┴────────────────────────┴───────────────┘\n"
            ],
            "text/html": [
              "<pre style=\"white-space:pre;overflow-x:auto;line-height:normal;font-family:Menlo,'DejaVu Sans Mono',consolas,'Courier New',monospace\">┏━━━━━━━━━━━━━━━━━━━━━━━━━━━━━━━━━┳━━━━━━━━━━━━━━━━━━━━━━━━┳━━━━━━━━━━━━━━━┓\n",
              "┃<span style=\"font-weight: bold\"> Layer (type)                    </span>┃<span style=\"font-weight: bold\"> Output Shape           </span>┃<span style=\"font-weight: bold\">       Param # </span>┃\n",
              "┡━━━━━━━━━━━━━━━━━━━━━━━━━━━━━━━━━╇━━━━━━━━━━━━━━━━━━━━━━━━╇━━━━━━━━━━━━━━━┩\n",
              "│ time_distributed                │ (<span style=\"color: #00d7ff; text-decoration-color: #00d7ff\">None</span>, <span style=\"color: #00d7ff; text-decoration-color: #00d7ff\">None</span>, <span style=\"color: #00af00; text-decoration-color: #00af00\">60</span>)       │             <span style=\"color: #00af00; text-decoration-color: #00af00\">0</span> │\n",
              "│ (<span style=\"color: #0087ff; text-decoration-color: #0087ff\">TimeDistributed</span>)               │                        │               │\n",
              "├─────────────────────────────────┼────────────────────────┼───────────────┤\n",
              "│ lstm (<span style=\"color: #0087ff; text-decoration-color: #0087ff\">LSTM</span>)                     │ (<span style=\"color: #00d7ff; text-decoration-color: #00d7ff\">None</span>, <span style=\"color: #00d7ff; text-decoration-color: #00d7ff\">None</span>, <span style=\"color: #00af00; text-decoration-color: #00af00\">100</span>)      │        <span style=\"color: #00af00; text-decoration-color: #00af00\">64,400</span> │\n",
              "├─────────────────────────────────┼────────────────────────┼───────────────┤\n",
              "│ dense (<span style=\"color: #0087ff; text-decoration-color: #0087ff\">Dense</span>)                   │ (<span style=\"color: #00d7ff; text-decoration-color: #00d7ff\">None</span>, <span style=\"color: #00d7ff; text-decoration-color: #00d7ff\">None</span>, <span style=\"color: #00af00; text-decoration-color: #00af00\">60</span>)       │         <span style=\"color: #00af00; text-decoration-color: #00af00\">6,060</span> │\n",
              "└─────────────────────────────────┴────────────────────────┴───────────────┘\n",
              "</pre>\n"
            ]
          },
          "metadata": {}
        },
        {
          "output_type": "display_data",
          "data": {
            "text/plain": [
              "\u001b[1m Total params: \u001b[0m\u001b[38;5;34m70,460\u001b[0m (275.23 KB)\n"
            ],
            "text/html": [
              "<pre style=\"white-space:pre;overflow-x:auto;line-height:normal;font-family:Menlo,'DejaVu Sans Mono',consolas,'Courier New',monospace\"><span style=\"font-weight: bold\"> Total params: </span><span style=\"color: #00af00; text-decoration-color: #00af00\">70,460</span> (275.23 KB)\n",
              "</pre>\n"
            ]
          },
          "metadata": {}
        },
        {
          "output_type": "display_data",
          "data": {
            "text/plain": [
              "\u001b[1m Trainable params: \u001b[0m\u001b[38;5;34m70,460\u001b[0m (275.23 KB)\n"
            ],
            "text/html": [
              "<pre style=\"white-space:pre;overflow-x:auto;line-height:normal;font-family:Menlo,'DejaVu Sans Mono',consolas,'Courier New',monospace\"><span style=\"font-weight: bold\"> Trainable params: </span><span style=\"color: #00af00; text-decoration-color: #00af00\">70,460</span> (275.23 KB)\n",
              "</pre>\n"
            ]
          },
          "metadata": {}
        },
        {
          "output_type": "display_data",
          "data": {
            "text/plain": [
              "\u001b[1m Non-trainable params: \u001b[0m\u001b[38;5;34m0\u001b[0m (0.00 B)\n"
            ],
            "text/html": [
              "<pre style=\"white-space:pre;overflow-x:auto;line-height:normal;font-family:Menlo,'DejaVu Sans Mono',consolas,'Courier New',monospace\"><span style=\"font-weight: bold\"> Non-trainable params: </span><span style=\"color: #00af00; text-decoration-color: #00af00\">0</span> (0.00 B)\n",
              "</pre>\n"
            ]
          },
          "metadata": {}
        }
      ],
      "source": [
        "model = Sequential()\n",
        "\n",
        "\n",
        "model.add(TimeDistributed(CategoryEncoding(num_tokens=vocab_size, output_mode = \"one_hot\"),input_shape=(None,1)))\n",
        "\n",
        "#SimpleRNN\n",
        "#model.add(SimpleRNN(200, return_sequences=True, dropout=0.1, recurrent_dropout=0.1 ))\n",
        "\n",
        "#LSTM\n",
        "model.add(LSTM(100, return_sequences=True, dropout=0.1, recurrent_dropout=0.1))\n",
        "\n",
        "#GRU\n",
        "#model.add(GRU(120, return_sequences=True, dropout=0.1, recurrent_dropout=0.1))\n",
        "\n",
        "model.add(Dense(vocab_size, activation='softmax'))\n",
        "#model.compile(loss='sparse_categorical_crossentropy', optimizer='rmsprop')\n",
        "model.compile(loss='sparse_categorical_crossentropy', optimizer='adam')\n",
        "\n",
        "model.summary()"
      ]
    },
    {
      "cell_type": "markdown",
      "metadata": {
        "id": "GmJWNyxQwfCE"
      },
      "source": [
        "\n",
        "### Definir el modelo"
      ]
    },
    {
      "cell_type": "markdown",
      "metadata": {
        "id": "YWK3z85sQfUe"
      },
      "source": [
        "Dado que por el momento no hay implementaciones adecuadas de la perplejidad que puedan operar en tiempo de entrenamiento, armaremos un Callback *ad-hoc* que la calcule en cada epoch.\n",
        "\n",
        "**Nota**: un Callback es una rutina gatillada por algún evento, son muy útiles para relevar datos en diferentes momentos del desarrollo del modelo. En este caso queremos hacer un cálculo cada vez que termina una epoch de entrenamiento."
      ]
    },
    {
      "cell_type": "code",
      "execution_count": 24,
      "metadata": {
        "id": "zUHX3r5JD-MG"
      },
      "outputs": [],
      "source": [
        "class PplCallback(keras.callbacks.Callback):\n",
        "\n",
        "    '''\n",
        "    Este callback es una solución ad-hoc para calcular al final de cada epoch de\n",
        "    entrenamiento la métrica de Perplejidad sobre un conjunto de datos de validación.\n",
        "    La perplejidad es una métrica cuantitativa para evaluar la calidad de la generación de secuencias.\n",
        "    Además implementa la finalización del entrenamiento (Early Stopping)\n",
        "    si la perplejidad no mejora después de `patience` epochs.\n",
        "    '''\n",
        "\n",
        "    def __init__(self, val_data, history_ppl,patience=5):\n",
        "      # El callback lo inicializamos con secuencias de validación sobre las cuales\n",
        "      # mediremos la perplejidad\n",
        "      self.val_data = val_data\n",
        "\n",
        "      self.target = []\n",
        "      self.padded = []\n",
        "\n",
        "      count = 0\n",
        "      self.info = []\n",
        "      self.min_score = np.inf\n",
        "      self.patience_counter = 0\n",
        "      self.patience = patience\n",
        "\n",
        "      # nos movemos en todas las secuencias de los datos de validación\n",
        "      for seq in self.val_data:\n",
        "\n",
        "        len_seq = len(seq)\n",
        "        # armamos todas las subsecuencias\n",
        "        subseq = [seq[:i] for i in range(1,len_seq)]\n",
        "        self.target.extend([seq[i] for i in range(1,len_seq)])\n",
        "\n",
        "        if len(subseq)!=0:\n",
        "\n",
        "          self.padded.append(pad_sequences(subseq, maxlen=max_context_size, padding='pre'))\n",
        "\n",
        "          self.info.append((count,count+len_seq))\n",
        "          count += len_seq\n",
        "\n",
        "      self.padded = np.vstack(self.padded)\n",
        "\n",
        "\n",
        "    def on_epoch_end(self, epoch, logs=None):\n",
        "\n",
        "        # en `scores` iremos guardando la perplejidad de cada secuencia\n",
        "        scores = []\n",
        "\n",
        "        predictions = self.model.predict(self.padded,verbose=0)\n",
        "\n",
        "        # para cada secuencia de validación\n",
        "        for start,end in self.info:\n",
        "\n",
        "          # en `probs` iremos guardando las probabilidades de los términos target\n",
        "          probs = [predictions[idx_seq,-1,idx_vocab] for idx_seq, idx_vocab in zip(range(start,end),self.target[start:end])]\n",
        "\n",
        "          # calculamos la perplejidad por medio de logaritmos\n",
        "          scores.append(np.exp(-np.sum(np.log(probs))/(end-start)))\n",
        "\n",
        "        # promediamos todos los scores e imprimimos el valor promedio\n",
        "        current_score = np.mean(scores)\n",
        "        history_ppl.append(current_score)\n",
        "        print(f'\\n mean perplexity: {current_score} \\n')\n",
        "\n",
        "        # chequeamos si tenemos que detener el entrenamiento\n",
        "        if current_score < self.min_score:\n",
        "          self.min_score = current_score\n",
        "          self.model.save(\"my_model.keras\")\n",
        "          print(\"Saved new model!\")\n",
        "          self.patience_counter = 0\n",
        "        else:\n",
        "          self.patience_counter += 1\n",
        "          if self.patience_counter == self.patience:\n",
        "            print(\"Stopping training...\")\n",
        "            self.model.stop_training = True\n"
      ]
    },
    {
      "cell_type": "markdown",
      "metadata": {
        "id": "8HBZIwR0gruA"
      },
      "source": [
        "### Entrenamiento"
      ]
    },
    {
      "cell_type": "code",
      "execution_count": 25,
      "metadata": {
        "id": "oQq1PHDkxDvN",
        "colab": {
          "base_uri": "https://localhost:8080/"
        },
        "outputId": "dde9d9a5-8413-4ae6-9cc6-d78adad08b25"
      },
      "outputs": [
        {
          "output_type": "stream",
          "name": "stdout",
          "text": [
            "Epoch 1/20\n",
            "\u001b[1m438/438\u001b[0m \u001b[32m━━━━━━━━━━━━━━━━━━━━\u001b[0m\u001b[37m\u001b[0m \u001b[1m0s\u001b[0m 265ms/step - loss: 3.0004\n",
            " mean perplexity: 9.695679722762689 \n",
            "\n",
            "Saved new model!\n",
            "\u001b[1m438/438\u001b[0m \u001b[32m━━━━━━━━━━━━━━━━━━━━\u001b[0m\u001b[37m\u001b[0m \u001b[1m147s\u001b[0m 312ms/step - loss: 2.9996\n",
            "Epoch 2/20\n",
            "\u001b[1m438/438\u001b[0m \u001b[32m━━━━━━━━━━━━━━━━━━━━\u001b[0m\u001b[37m\u001b[0m \u001b[1m0s\u001b[0m 256ms/step - loss: 2.1577\n",
            " mean perplexity: 8.43229483395088 \n",
            "\n",
            "Saved new model!\n",
            "\u001b[1m438/438\u001b[0m \u001b[32m━━━━━━━━━━━━━━━━━━━━\u001b[0m\u001b[37m\u001b[0m \u001b[1m133s\u001b[0m 303ms/step - loss: 2.1576\n",
            "Epoch 3/20\n",
            "\u001b[1m438/438\u001b[0m \u001b[32m━━━━━━━━━━━━━━━━━━━━\u001b[0m\u001b[37m\u001b[0m \u001b[1m0s\u001b[0m 255ms/step - loss: 2.0005\n",
            " mean perplexity: 7.8897803895841765 \n",
            "\n",
            "Saved new model!\n",
            "\u001b[1m438/438\u001b[0m \u001b[32m━━━━━━━━━━━━━━━━━━━━\u001b[0m\u001b[37m\u001b[0m \u001b[1m141s\u001b[0m 302ms/step - loss: 2.0004\n",
            "Epoch 4/20\n",
            "\u001b[1m438/438\u001b[0m \u001b[32m━━━━━━━━━━━━━━━━━━━━\u001b[0m\u001b[37m\u001b[0m \u001b[1m0s\u001b[0m 260ms/step - loss: 1.9030\n",
            " mean perplexity: 7.608859254092705 \n",
            "\n",
            "Saved new model!\n",
            "\u001b[1m438/438\u001b[0m \u001b[32m━━━━━━━━━━━━━━━━━━━━\u001b[0m\u001b[37m\u001b[0m \u001b[1m144s\u001b[0m 307ms/step - loss: 1.9029\n",
            "Epoch 5/20\n",
            "\u001b[1m438/438\u001b[0m \u001b[32m━━━━━━━━━━━━━━━━━━━━\u001b[0m\u001b[37m\u001b[0m \u001b[1m0s\u001b[0m 262ms/step - loss: 1.8350\n",
            " mean perplexity: 7.429644041914281 \n",
            "\n",
            "Saved new model!\n",
            "\u001b[1m438/438\u001b[0m \u001b[32m━━━━━━━━━━━━━━━━━━━━\u001b[0m\u001b[37m\u001b[0m \u001b[1m135s\u001b[0m 309ms/step - loss: 1.8350\n",
            "Epoch 6/20\n",
            "\u001b[1m438/438\u001b[0m \u001b[32m━━━━━━━━━━━━━━━━━━━━\u001b[0m\u001b[37m\u001b[0m \u001b[1m0s\u001b[0m 254ms/step - loss: 1.7812\n",
            " mean perplexity: 7.278646000032502 \n",
            "\n",
            "Saved new model!\n",
            "\u001b[1m438/438\u001b[0m \u001b[32m━━━━━━━━━━━━━━━━━━━━\u001b[0m\u001b[37m\u001b[0m \u001b[1m138s\u001b[0m 301ms/step - loss: 1.7812\n",
            "Epoch 7/20\n",
            "\u001b[1m438/438\u001b[0m \u001b[32m━━━━━━━━━━━━━━━━━━━━\u001b[0m\u001b[37m\u001b[0m \u001b[1m0s\u001b[0m 259ms/step - loss: 1.7333\n",
            " mean perplexity: 7.102176575156731 \n",
            "\n",
            "Saved new model!\n",
            "\u001b[1m438/438\u001b[0m \u001b[32m━━━━━━━━━━━━━━━━━━━━\u001b[0m\u001b[37m\u001b[0m \u001b[1m127s\u001b[0m 289ms/step - loss: 1.7332\n",
            "Epoch 8/20\n",
            "\u001b[1m438/438\u001b[0m \u001b[32m━━━━━━━━━━━━━━━━━━━━\u001b[0m\u001b[37m\u001b[0m \u001b[1m0s\u001b[0m 258ms/step - loss: 1.6864\n",
            " mean perplexity: 6.923021566577074 \n",
            "\n",
            "Saved new model!\n",
            "\u001b[1m438/438\u001b[0m \u001b[32m━━━━━━━━━━━━━━━━━━━━\u001b[0m\u001b[37m\u001b[0m \u001b[1m149s\u001b[0m 306ms/step - loss: 1.6863\n",
            "Epoch 9/20\n",
            "\u001b[1m438/438\u001b[0m \u001b[32m━━━━━━━━━━━━━━━━━━━━\u001b[0m\u001b[37m\u001b[0m \u001b[1m0s\u001b[0m 255ms/step - loss: 1.6391\n",
            " mean perplexity: 6.781022444003966 \n",
            "\n",
            "Saved new model!\n",
            "\u001b[1m438/438\u001b[0m \u001b[32m━━━━━━━━━━━━━━━━━━━━\u001b[0m\u001b[37m\u001b[0m \u001b[1m133s\u001b[0m 285ms/step - loss: 1.6391\n",
            "Epoch 10/20\n",
            "\u001b[1m438/438\u001b[0m \u001b[32m━━━━━━━━━━━━━━━━━━━━\u001b[0m\u001b[37m\u001b[0m \u001b[1m0s\u001b[0m 252ms/step - loss: 1.5981\n",
            " mean perplexity: 6.6402712876234595 \n",
            "\n",
            "Saved new model!\n",
            "\u001b[1m438/438\u001b[0m \u001b[32m━━━━━━━━━━━━━━━━━━━━\u001b[0m\u001b[37m\u001b[0m \u001b[1m123s\u001b[0m 282ms/step - loss: 1.5981\n",
            "Epoch 11/20\n",
            "\u001b[1m438/438\u001b[0m \u001b[32m━━━━━━━━━━━━━━━━━━━━\u001b[0m\u001b[37m\u001b[0m \u001b[1m0s\u001b[0m 254ms/step - loss: 1.5611\n",
            " mean perplexity: 6.602518064219777 \n",
            "\n",
            "Saved new model!\n",
            "\u001b[1m438/438\u001b[0m \u001b[32m━━━━━━━━━━━━━━━━━━━━\u001b[0m\u001b[37m\u001b[0m \u001b[1m143s\u001b[0m 284ms/step - loss: 1.5611\n",
            "Epoch 12/20\n",
            "\u001b[1m438/438\u001b[0m \u001b[32m━━━━━━━━━━━━━━━━━━━━\u001b[0m\u001b[37m\u001b[0m \u001b[1m0s\u001b[0m 254ms/step - loss: 1.5279\n",
            " mean perplexity: 6.554373768286976 \n",
            "\n",
            "Saved new model!\n",
            "\u001b[1m438/438\u001b[0m \u001b[32m━━━━━━━━━━━━━━━━━━━━\u001b[0m\u001b[37m\u001b[0m \u001b[1m142s\u001b[0m 284ms/step - loss: 1.5278\n",
            "Epoch 13/20\n",
            "\u001b[1m438/438\u001b[0m \u001b[32m━━━━━━━━━━━━━━━━━━━━\u001b[0m\u001b[37m\u001b[0m \u001b[1m0s\u001b[0m 251ms/step - loss: 1.4966\n",
            " mean perplexity: 6.54545563217101 \n",
            "\n",
            "Saved new model!\n",
            "\u001b[1m438/438\u001b[0m \u001b[32m━━━━━━━━━━━━━━━━━━━━\u001b[0m\u001b[37m\u001b[0m \u001b[1m148s\u001b[0m 298ms/step - loss: 1.4966\n",
            "Epoch 14/20\n",
            "\u001b[1m438/438\u001b[0m \u001b[32m━━━━━━━━━━━━━━━━━━━━\u001b[0m\u001b[37m\u001b[0m \u001b[1m0s\u001b[0m 251ms/step - loss: 1.4685\n",
            " mean perplexity: 6.49454565552192 \n",
            "\n",
            "Saved new model!\n",
            "\u001b[1m438/438\u001b[0m \u001b[32m━━━━━━━━━━━━━━━━━━━━\u001b[0m\u001b[37m\u001b[0m \u001b[1m134s\u001b[0m 281ms/step - loss: 1.4685\n",
            "Epoch 15/20\n",
            "\u001b[1m438/438\u001b[0m \u001b[32m━━━━━━━━━━━━━━━━━━━━\u001b[0m\u001b[37m\u001b[0m \u001b[1m0s\u001b[0m 254ms/step - loss: 1.4426\n",
            " mean perplexity: 6.505698425013844 \n",
            "\n",
            "\u001b[1m438/438\u001b[0m \u001b[32m━━━━━━━━━━━━━━━━━━━━\u001b[0m\u001b[37m\u001b[0m \u001b[1m143s\u001b[0m 284ms/step - loss: 1.4425\n",
            "Epoch 16/20\n",
            "\u001b[1m438/438\u001b[0m \u001b[32m━━━━━━━━━━━━━━━━━━━━\u001b[0m\u001b[37m\u001b[0m \u001b[1m0s\u001b[0m 253ms/step - loss: 1.4208\n",
            " mean perplexity: 6.551270605102787 \n",
            "\n",
            "\u001b[1m438/438\u001b[0m \u001b[32m━━━━━━━━━━━━━━━━━━━━\u001b[0m\u001b[37m\u001b[0m \u001b[1m131s\u001b[0m 300ms/step - loss: 1.4208\n",
            "Epoch 17/20\n",
            "\u001b[1m438/438\u001b[0m \u001b[32m━━━━━━━━━━━━━━━━━━━━\u001b[0m\u001b[37m\u001b[0m \u001b[1m0s\u001b[0m 250ms/step - loss: 1.4006\n",
            " mean perplexity: 6.611836229882589 \n",
            "\n",
            "\u001b[1m438/438\u001b[0m \u001b[32m━━━━━━━━━━━━━━━━━━━━\u001b[0m\u001b[37m\u001b[0m \u001b[1m122s\u001b[0m 280ms/step - loss: 1.4006\n",
            "Epoch 18/20\n",
            "\u001b[1m438/438\u001b[0m \u001b[32m━━━━━━━━━━━━━━━━━━━━\u001b[0m\u001b[37m\u001b[0m \u001b[1m0s\u001b[0m 254ms/step - loss: 1.3829\n",
            " mean perplexity: 6.683819999539756 \n",
            "\n",
            "\u001b[1m438/438\u001b[0m \u001b[32m━━━━━━━━━━━━━━━━━━━━\u001b[0m\u001b[37m\u001b[0m \u001b[1m132s\u001b[0m 301ms/step - loss: 1.3829\n",
            "Epoch 19/20\n",
            "\u001b[1m438/438\u001b[0m \u001b[32m━━━━━━━━━━━━━━━━━━━━\u001b[0m\u001b[37m\u001b[0m \u001b[1m0s\u001b[0m 259ms/step - loss: 1.3688\n",
            " mean perplexity: 6.747860887186314 \n",
            "\n",
            "Stopping training...\n",
            "\u001b[1m438/438\u001b[0m \u001b[32m━━━━━━━━━━━━━━━━━━━━\u001b[0m\u001b[37m\u001b[0m \u001b[1m137s\u001b[0m 288ms/step - loss: 1.3687\n"
          ]
        }
      ],
      "source": [
        "# fiteamos, nótese el agregado del callback con su inicialización. El batch_size lo podemos seleccionar a mano\n",
        "# en general, lo mejor es escoger el batch más grande posible que minimice el tiempo de cada época.\n",
        "# En la variable `history_ppl` se guardarán los valores de perplejidad para cada época.\n",
        "history_ppl = []\n",
        "hist = model.fit(X, y, epochs=20, callbacks=[PplCallback(tokenized_sentences_val,history_ppl)], batch_size=256)"
      ]
    },
    {
      "cell_type": "code",
      "execution_count": 26,
      "metadata": {
        "id": "K30JHB3Dv-mx",
        "colab": {
          "base_uri": "https://localhost:8080/",
          "height": 430
        },
        "outputId": "4132507f-1847-4fe8-f461-7b865d7355b4"
      },
      "outputs": [
        {
          "output_type": "display_data",
          "data": {
            "text/plain": [
              "<Figure size 640x480 with 1 Axes>"
            ],
            "image/png": "[encoded data removed]"
          },
          "metadata": {}
        }
      ],
      "source": [
        "import matplotlib.pyplot as plt\n",
        "import seaborn as sns\n",
        "\n",
        "# Entrenamiento\n",
        "epoch_count = range(1, len(history_ppl) + 1)\n",
        "sns.lineplot(x=epoch_count,  y=history_ppl)\n",
        "plt.show()"
      ]
    },
    {
      "cell_type": "code",
      "execution_count": 27,
      "metadata": {
        "id": "Rhy5hZN38qfO"
      },
      "outputs": [],
      "source": [
        "# Cargamos el mejor modelo guardado del entrenamiento para hacer inferencia\n",
        "model = keras.models.load_model('my_model.keras')"
      ]
    },
    {
      "cell_type": "markdown",
      "metadata": {
        "id": "KN6Fg_BsxJe6"
      },
      "source": [
        "\n",
        "### Predicción del próximo caracter"
      ]
    },
    {
      "cell_type": "code",
      "execution_count": 28,
      "metadata": {
        "id": "IBvKHFPmzpy2",
        "colab": {
          "base_uri": "https://localhost:8080/"
        },
        "outputId": "ba276a1a-f6bb-42e4-99c4-0e1a88067927"
      },
      "outputs": [
        {
          "output_type": "stream",
          "name": "stdout",
          "text": [
            "\u001b[2K   \u001b[90m━━━━━━━━━━━━━━━━━━━━━━━━━━━━━━━━━━━━━━━━\u001b[0m \u001b[32m54.2/54.2 MB\u001b[0m \u001b[31m17.9 MB/s\u001b[0m eta \u001b[36m0:00:00\u001b[0m\n",
            "\u001b[2K   \u001b[90m━━━━━━━━━━━━━━━━━━━━━━━━━━━━━━━━━━━━━━━━\u001b[0m \u001b[32m323.1/323.1 kB\u001b[0m \u001b[31m32.4 MB/s\u001b[0m eta \u001b[36m0:00:00\u001b[0m\n",
            "\u001b[2K   \u001b[90m━━━━━━━━━━━━━━━━━━━━━━━━━━━━━━━━━━━━━━━━\u001b[0m \u001b[32m95.2/95.2 kB\u001b[0m \u001b[31m10.4 MB/s\u001b[0m eta \u001b[36m0:00:00\u001b[0m\n",
            "\u001b[2K   \u001b[90m━━━━━━━━━━━━━━━━━━━━━━━━━━━━━━━━━━━━━━━━\u001b[0m \u001b[32m11.5/11.5 MB\u001b[0m \u001b[31m122.5 MB/s\u001b[0m eta \u001b[36m0:00:00\u001b[0m\n",
            "\u001b[2K   \u001b[90m━━━━━━━━━━━━━━━━━━━━━━━━━━━━━━━━━━━━━━━━\u001b[0m \u001b[32m72.0/72.0 kB\u001b[0m \u001b[31m7.5 MB/s\u001b[0m eta \u001b[36m0:00:00\u001b[0m\n",
            "\u001b[2K   \u001b[90m━━━━━━━━━━━━━━━━━━━━━━━━━━━━━━━━━━━━━━━━\u001b[0m \u001b[32m62.5/62.5 kB\u001b[0m \u001b[31m6.7 MB/s\u001b[0m eta \u001b[36m0:00:00\u001b[0m\n",
            "\u001b[?25h"
          ]
        }
      ],
      "source": [
        "# Se puede usar gradio para probar el modelo\n",
        "# Gradio es una herramienta muy útil para crear interfaces para ensayar modelos\n",
        "# https://gradio.app/\n",
        "\n",
        "!pip install -q gradio"
      ]
    },
    {
      "cell_type": "code",
      "execution_count": 29,
      "metadata": {
        "id": "HNyBykvhzs7-",
        "colab": {
          "base_uri": "https://localhost:8080/",
          "height": 687
        },
        "outputId": "ae5f51f2-f731-4c45-a7ac-bcc7c27b8b2d"
      },
      "outputs": [
        {
          "output_type": "stream",
          "name": "stdout",
          "text": [
            "It looks like you are running Gradio on a hosted a Jupyter notebook. For the Gradio app to work, sharing must be enabled. Automatically setting `share=True` (you can turn this off by setting `share=False` in `launch()` explicitly).\n",
            "\n",
            "Colab notebook detected. This cell will run indefinitely so that you can see errors and logs. To turn off, set debug=False in launch().\n",
            "* Running on public URL: https://e1507b9d9bbc99a02c.gradio.live\n",
            "\n",
            "This share link expires in 1 week. For free permanent hosting and GPU upgrades, run `gradio deploy` from the terminal in the working directory to deploy to Hugging Face Spaces (https://huggingface.co/spaces)\n"
          ]
        },
        {
          "output_type": "display_data",
          "data": {
            "text/plain": [
              "<IPython.core.display.HTML object>"
            ],
            "text/html": [
              "<div><iframe src=\"https://e1507b9d9bbc99a02c.gradio.live\" width=\"100%\" height=\"500\" allow=\"autoplay; camera; microphone; clipboard-read; clipboard-write;\" frameborder=\"0\" allowfullscreen></iframe></div>"
            ]
          },
          "metadata": {}
        },
        {
          "output_type": "stream",
          "name": "stdout",
          "text": [
            "Keyboard interruption in main thread... closing server.\n",
            "Killing tunnel 127.0.0.1:7860 <> https://e1507b9d9bbc99a02c.gradio.live\n"
          ]
        },
        {
          "output_type": "execute_result",
          "data": {
            "text/plain": []
          },
          "metadata": {},
          "execution_count": 29
        }
      ],
      "source": [
        "import gradio as gr\n",
        "\n",
        "def model_response(human_text):\n",
        "\n",
        "    # Encodeamos\n",
        "    encoded = [char2idx[ch] for ch in human_text.lower() ]\n",
        "    # Si tienen distinto largo\n",
        "    encoded = pad_sequences([encoded], maxlen=max_context_size, padding='pre')\n",
        "\n",
        "    # Predicción softmax\n",
        "    y_hat = np.argmax(model.predict(encoded)[0,-1,:])\n",
        "\n",
        "\n",
        "    # Debemos buscar en el vocabulario el caracter\n",
        "    # que corresopnde al indice (y_hat) predicho por le modelo\n",
        "    out_word = ''\n",
        "    out_word = idx2char[y_hat]\n",
        "\n",
        "    # Agrego la palabra a la frase predicha\n",
        "    return human_text + out_word\n",
        "\n",
        "iface = gr.Interface(\n",
        "    fn=model_response,\n",
        "    inputs=[\"textbox\"],\n",
        "    outputs=\"text\")\n",
        "\n",
        "iface.launch(debug=True)"
      ]
    },
    {
      "cell_type": "markdown",
      "metadata": {
        "id": "mCeMWWupxN1-"
      },
      "source": [
        "### Generación de secuencias"
      ]
    },
    {
      "cell_type": "code",
      "execution_count": 30,
      "metadata": {
        "id": "bwbS_pfhxvB3"
      },
      "outputs": [],
      "source": [
        "def generate_seq(model, seed_text, max_length, n_words):\n",
        "    \"\"\"\n",
        "        Exec model sequence prediction\n",
        "\n",
        "        Args:\n",
        "            model (keras): modelo entrenado\n",
        "            seed_text (string): texto de entrada (input_seq)\n",
        "            max_length (int): máxima longitud de la sequencia de entrada\n",
        "            n_words (int): números de caracteres a agregar a la sequencia de entrada\n",
        "        returns:\n",
        "            output_text (string): sentencia con las \"n_words\" agregadas\n",
        "    \"\"\"\n",
        "    output_text = seed_text\n",
        "\t# generate a fixed number of words\n",
        "    for _ in range(n_words):\n",
        "\t\t# Encodeamos\n",
        "        encoded = [char2idx[ch] for ch in output_text.lower() ]\n",
        "\t\t# Si tienen distinto largo\n",
        "        encoded = pad_sequences([encoded], maxlen=max_length, padding='pre')\n",
        "\n",
        "\t\t# Predicción softmax\n",
        "        y_hat = np.argmax(model.predict(encoded,verbose=0)[0,-1,:])\n",
        "\t\t# Vamos concatenando las predicciones\n",
        "        out_word = ''\n",
        "\n",
        "        out_word = idx2char[y_hat]\n",
        "\n",
        "\t\t# Agrego las palabras a la frase predicha\n",
        "        output_text += out_word\n",
        "    return output_text"
      ]
    },
    {
      "cell_type": "code",
      "execution_count": 31,
      "metadata": {
        "id": "JoFqRC5pxzqS",
        "colab": {
          "base_uri": "https://localhost:8080/",
          "height": 36
        },
        "outputId": "9a168350-91cf-448e-f2bd-f666e1092303"
      },
      "outputs": [
        {
          "output_type": "execute_result",
          "data": {
            "text/plain": [
              "'gregorio samsa se despertó de la hermana y se había alguna de la h'"
            ],
            "application/vnd.google.colaboratory.intrinsic+json": {
              "type": "string"
            }
          },
          "metadata": {},
          "execution_count": 31
        }
      ],
      "source": [
        "input_text='gregorio samsa se despertó'\n",
        "\n",
        "generate_seq(model, input_text, max_length=max_context_size, n_words=40)"
      ]
    },
    {
      "cell_type": "markdown",
      "metadata": {
        "id": "drJ6xn5qW1Hl"
      },
      "source": [
        "###  Beam search y muestreo aleatorio"
      ]
    },
    {
      "cell_type": "code",
      "execution_count": 32,
      "metadata": {
        "id": "_vovn9XZW1Hl"
      },
      "outputs": [],
      "source": [
        "# funcionalidades para hacer encoding y decoding\n",
        "\n",
        "def encode(text,max_length=max_context_size):\n",
        "\n",
        "    encoded = [char2idx[ch] for ch in text]\n",
        "    encoded = pad_sequences([encoded], maxlen=max_length, padding='pre')\n",
        "\n",
        "    return encoded\n",
        "\n",
        "def decode(seq):\n",
        "    return ''.join([idx2char[ch] for ch in seq])"
      ]
    },
    {
      "cell_type": "code",
      "execution_count": 33,
      "metadata": {
        "id": "I_lZiQwkW1Hl"
      },
      "outputs": [],
      "source": [
        "from scipy.special import softmax\n",
        "\n",
        "# función que selecciona candidatos para el beam search\n",
        "def select_candidates(pred,num_beams,vocab_size,history_probs,history_tokens,temp,mode):\n",
        "\n",
        "  # colectar todas las probabilidades para la siguiente búsqueda\n",
        "  pred_large = []\n",
        "\n",
        "  for idx,pp in enumerate(pred):\n",
        "    pred_large.extend(np.log(pp+1E-10)+history_probs[idx])\n",
        "\n",
        "  pred_large = np.array(pred_large)\n",
        "\n",
        "  # criterio de selección\n",
        "  if mode == 'det':\n",
        "    idx_select = np.argsort(pred_large)[::-1][:num_beams] # beam search determinista\n",
        "  elif mode == 'sto':\n",
        "    idx_select = np.random.choice(np.arange(pred_large.shape[0]), num_beams, p=softmax(pred_large/temp)) # beam search con muestreo aleatorio\n",
        "  else:\n",
        "    raise ValueError(f'Wrong selection mode. {mode} was given. det and sto are supported.')\n",
        "\n",
        "  # traducir a índices de token en el vocabulario\n",
        "  new_history_tokens = np.concatenate((np.array(history_tokens)[idx_select//vocab_size],\n",
        "                        np.array([idx_select%vocab_size]).T),\n",
        "                      axis=1)\n",
        "\n",
        "  # devolver el producto de las probabilidades (log) y la secuencia de tokens seleccionados\n",
        "  return pred_large[idx_select.astype(int)], new_history_tokens.astype(int)\n",
        "\n",
        "\n",
        "def beam_search(model,num_beams,num_words,input,temp=1,mode='det'):\n",
        "\n",
        "    # first iteration\n",
        "\n",
        "    # encode\n",
        "    encoded = encode(input)\n",
        "\n",
        "    # first prediction\n",
        "    y_hat = model.predict(encoded,verbose=0)[0,-1,:]\n",
        "\n",
        "    # get vocabulary size\n",
        "    vocab_size = y_hat.shape[0]\n",
        "\n",
        "    # initialize history\n",
        "    history_probs = [0]*num_beams\n",
        "    history_tokens = [encoded[0]]*num_beams\n",
        "\n",
        "    # select num_beams candidates\n",
        "    history_probs, history_tokens = select_candidates([y_hat],\n",
        "                                        num_beams,\n",
        "                                        vocab_size,\n",
        "                                        history_probs,\n",
        "                                        history_tokens,\n",
        "                                        temp,\n",
        "                                        mode)\n",
        "\n",
        "    # beam search loop\n",
        "    for i in range(num_words-1):\n",
        "\n",
        "      preds = []\n",
        "\n",
        "      for hist in history_tokens:\n",
        "\n",
        "        # actualizar secuencia de tokens\n",
        "        input_update = np.array([hist[i+1:]]).copy()\n",
        "\n",
        "        # predicción\n",
        "        y_hat = model.predict(input_update,verbose=0)[0,-1,:]\n",
        "\n",
        "        preds.append(y_hat)\n",
        "\n",
        "      history_probs, history_tokens = select_candidates(preds,\n",
        "                                                        num_beams,\n",
        "                                                        vocab_size,\n",
        "                                                        history_probs,\n",
        "                                                        history_tokens,\n",
        "                                                        temp,\n",
        "                                                        mode)\n",
        "\n",
        "    return history_tokens[:,-(len(input)+num_words):]"
      ]
    },
    {
      "cell_type": "code",
      "execution_count": 34,
      "metadata": {
        "id": "GeLqAoOYW1Hm"
      },
      "outputs": [],
      "source": [
        "# predicción con beam search\n",
        "salidas = beam_search(model,num_beams=10,num_words=20,input=\"gregorio samsa se despertó una\")"
      ]
    },
    {
      "cell_type": "code",
      "execution_count": 35,
      "metadata": {
        "id": "P8HQoLhw-NYg",
        "colab": {
          "base_uri": "https://localhost:8080/"
        },
        "outputId": "0d62078f-b8aa-4132-f39f-ce6ca707f2c6"
      },
      "outputs": [
        {
          "output_type": "execute_result",
          "data": {
            "text/plain": [
              "array([40, 12, 46, 40, 17, 12, 35, 17, 16, 47, 11, 50, 47, 11, 16, 47, 46,\n",
              "       16, 51, 46, 47, 57, 46, 12, 44, 39, 16, 49, 15, 11, 16, 57, 49, 46,\n",
              "       12, 44, 11, 16, 51, 46, 16,  9, 11, 16, 23, 46, 12, 50, 11, 15])"
            ]
          },
          "metadata": {},
          "execution_count": 35
        }
      ],
      "source": [
        "salidas[0]"
      ]
    },
    {
      "cell_type": "code",
      "execution_count": 36,
      "metadata": {
        "id": "2S3_I3S1W1Hm",
        "colab": {
          "base_uri": "https://localhost:8080/",
          "height": 36
        },
        "outputId": "002b6b19-f40b-4dcd-a36d-f0f329cb7626"
      },
      "outputs": [
        {
          "output_type": "execute_result",
          "data": {
            "text/plain": [
              "'gregorio samsa se despertó una puerta de la herman'"
            ],
            "application/vnd.google.colaboratory.intrinsic+json": {
              "type": "string"
            }
          },
          "metadata": {},
          "execution_count": 36
        }
      ],
      "source": [
        "# veamos las salidas\n",
        "decode(salidas[0])"
      ]
    },
    {
      "cell_type": "markdown",
      "metadata": {
        "id": "Q_LlqmtEW1Hn"
      },
      "source": [
        "#**Resumen Modelos**"
      ]
    },
    {
      "cell_type": "markdown",
      "source": [
        "GROUND TRUTH\n",
        "\n",
        "gregorio samsa se despertó una mañana después de un sueño \\r\\nintranquilo"
      ],
      "metadata": {
        "id": "KouDfKLYDAK0"
      }
    },
    {
      "cell_type": "markdown",
      "source": [
        "#SimpleRNN contexto 100\n",
        "model.add(SimpleRNN(200, return_sequences=True, dropout=0.1, recurrent_dropout=0.1 ))\n",
        " Total params: 63,859 (249.45 KB)\n",
        " Trainable params: 63,859 (249.45 KB)\n",
        " Non-trainable params: 0 (0.00 B)\n",
        "\n",
        "Epoch 11/20\n",
        "437/438 ━━━━━━━━━━━━━━━━━━━━ 0s 14ms/step - loss: 1.5461\n",
        " mean perplexity: 6.271519294599208\n",
        "\n",
        "Stopping training...\n",
        "438/438 ━━━━━━━━━━━━━━━━━━━━ 7s 17ms/step - loss: 1.5461\n",
        "\n",
        "Generacion de secuencia\n",
        "\n",
        "gregorio samsa se despertó de la cama a su habitación de la cabeza\n",
        "\n",
        "Beam search y muestreo aleatorio\n",
        "\n",
        "gregorio samsa se despertó una gregorio se encontr\n",
        "\n",
        "![image.png](data:image/png;base64,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)\n",
        "\n",
        "![image.png](data:image/png;base64,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)"
      ],
      "metadata": {
        "id": "HsQOPV5rcdzT"
      }
    },
    {
      "cell_type": "markdown",
      "source": [
        " #SimpleRNN  contexto 60\n",
        "\n",
        "model.add(SimpleRNN(200, return_sequences=True, dropout=0.1, recurrent_dropout=0.1 ))\n",
        "\n",
        "Total params: 63,859 (249.45 KB)\n",
        " Trainable params: 63,859 (249.45 KB)\n",
        " Non-trainable params: 0 (0.00 B)\n",
        "\n",
        " Epoch 9/20\n",
        "433/438 ━━━━━━━━━━━━━━━━━━━━ 0s 9ms/step - loss: 1.5437\n",
        " mean perplexity: 5.989739319074501\n",
        "\n",
        "Saved new model!\n",
        "438/438 ━━━━━━━━━━━━━━━━━━━━ 7s 15ms/step - loss: 1.5437\n",
        "Epoch 10/20\n",
        "434/438 ━━━━━━━━━━━━━━━━━━━━ 0s 9ms/step - loss: 1.5305\n",
        " mean perplexity: 6.036504836915766\n",
        "\n",
        "Generacion de Secuencia\n",
        "\n",
        " gregorio samsa se despertó en la habitación de la habitación de la\n",
        "\n",
        "Beam search y muestreo aleatorio\n",
        "\n",
        " gregorio samsa se despertó una vez en la habitació\n",
        "\n",
        " ![image.png](data:image/png;base64,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)"
      ],
      "metadata": {
        "id": "jkOWYXapVNZx"
      }
    },
    {
      "cell_type": "markdown",
      "source": [
        "#LSTM\n",
        "\n",
        "model.add(LSTM(100, return_sequences=True, dropout=0.1, recurrent_dropout=0.1))\n",
        "Puse 100 neuronas para que el total de parametros fueran semejantes. Igualmente el tiempo de entranamiento fue mucho mayor.  \n",
        "\n",
        " Total params: 69,959 (273.28 KB)\n",
        " Trainable params: 69,959 (273.28 KB)\n",
        " Non-trainable params: 0 (0.00 B)\n",
        "\n",
        " Epoch 20/20\n",
        "438/438 ━━━━━━━━━━━━━━━━━━━━ 0s 267ms/step - loss: 1.6964\n",
        " mean perplexity: 6.997034146533749\n",
        "\n",
        "Saved new model!\n",
        "438/438 ━━━━━━━━━━━━━━━━━━━━ 146s 314ms/step - loss: 1.6964\n",
        "\n",
        " Generacion de secuencia\n",
        "\n",
        " gregorio samsa se despertó de la había \\r\\npara en la había \\r\\npara e\n",
        "\n",
        " Beam search y muestreo aleatorio\n",
        "\n",
        " gregorio samsa se despertó una de la habitación de\n",
        "\n",
        "\n",
        " Saved new model!\n",
        "438/438 ━━━━━━━━━━━━━━━━━━━━ 148s 298ms/step - loss: 1.4966\n",
        "Epoch 14/20\n",
        "438/438 ━━━━━━━━━━━━━━━━━━━━ 0s 251ms/step - loss: 1.4685\n",
        " mean perplexity: 6.49454565552192\n",
        "\n",
        " ![image.png](data:image/png;base64,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)"
      ],
      "metadata": {
        "id": "Uo9HMUMddeKi"
      }
    },
    {
      "cell_type": "markdown",
      "source": [
        "#SimpleRNN + LSTM\n",
        "con 100 nodos y contexto 200. El perplexity empeoro.\n",
        "\n",
        " Total params: 178,359 (696.71 KB)\n",
        " Trainable params: 178,359 (696.71 KB)\n",
        " Non-trainable params: 0 (0.00 B)\n",
        "\n",
        "437/437 ━━━━━━━━━━━━━━━━━━━━ 381s 859ms/step - loss: 1.3584\n",
        "Epoch 9/20\n",
        "437/437 ━━━━━━━━━━━━━━━━━━━━ 0s 831ms/step - loss: 1.3359\n",
        " mean perplexity: 10.602631568908691\n",
        "\n",
        "Stopping training...\n",
        "437/437 ━━━━━━━━━━━━━━━━━━━━ 374s 855ms/step - loss: 1.3359\n",
        "\n",
        "Generacion de la secuencia\n",
        "gregorio samsa se despertó de la cama y en la habitación de la cam\n",
        "\n",
        "Beam search y muestreo aleatorio\n",
        "gregorio samsa se despertó una vez en la habitació"
      ],
      "metadata": {
        "id": "55_uP2LxetqK"
      }
    },
    {
      "cell_type": "markdown",
      "source": [
        "#GRU\n",
        "model.add(GRU(120, return_sequences=True, dropout=0.1, recurrent_dropout=0.1))\n",
        "Puse 120 neuronas para que el total de parametros fueran semejantes. Igualmente el tiempo de entranamiento fue mucho mayor.\n",
        "\n",
        " Total params: 72,299 (282.42 KB)\n",
        " Trainable params: 72,299 (282.42 KB)\n",
        " Non-trainable params: 0 (0.00 B)\n",
        "\n",
        " Epoch 12/20\n",
        "438/438 ━━━━━━━━━━━━━━━━━━━━ 0s 256ms/step - loss: 1.4347\n",
        " mean perplexity: 6.580179724266858\n",
        "\n",
        "Stopping training...\n",
        "438/438 ━━━━━━━━━━━━━━━━━━━━ 148s 303ms/step - loss: 1.4347\n",
        "\n",
        "Generacion de la Secuencia\n",
        "\n",
        "gregorio samsa se despertó a la hermana en la hermana en la herman\n",
        "\n",
        "Beam search y muestreo aleatorio\n",
        "\n",
        "gregorio samsa se despertó una habitación de la he\n",
        "\n",
        "![image.png](data:image/png;base64,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)\n",
        "\n",
        "![image.png](data:image/png;base64,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)"
      ],
      "metadata": {
        "id": "U1kLigFJ8R51"
      }
    },
    {
      "cell_type": "markdown",
      "source": [
        " #**GRU**\n",
        "\n",
        " Mas nodos 200 y mas contexto 200\n",
        "model.add(GRU(200, return_sequences=True, dropout=0.1, recurrent_dropout=0.1))\n",
        "Puse 200 neuronas para que el total de parametros fueran semejantes. Igualmente el tiempo de entranamiento fue mucho mayor.\n",
        "\n",
        "Total params: 168,459 (658.04 KB)\n",
        " Trainable params: 168,459 (658.04 KB)\n",
        " Non-trainable params: 0 (0.00 B)\n",
        "\n",
        " Epoch 7/20\n",
        "437/437 ━━━━━━━━━━━━━━━━━━━━ 0s 496ms/step - loss: 1.2394\n",
        " mean perplexity: 10.730637550354004\n",
        "\n",
        "Stopping training...\n",
        "437/437 ━━━━━━━━━━━━━━━━━━━━ 265s 520ms/step - loss: 1.2393\n",
        "\n",
        "Generacion de la Secuencia\n",
        " gregorio samsa se despertó a la habitación de la habitación de la\n",
        "Beam search y muestreo aleatorio\n",
        " gregorio samsa se despertó una habitación de la ha\n",
        "\n",
        "\n",
        " El modelo no mejoro. Al contrario la perplejidad empezo a diverger.\n",
        "\n",
        " Probe con Contexto 100 y 200 nodos y el modelo se comporto como el anterior divergio y llego a una perplexity mayor.\n",
        "\n",
        "  Total params: 168,459 (658.04 KB)\n",
        " Trainable params: 168,459 (658.04 KB)\n",
        " Non-trainable params: 0 (0.00 B)\n",
        "\n",
        " 438/438 ━━━━━━━━━━━━━━━━━━━━ 141s 290ms/step - loss: 1.2515\n",
        "Epoch 9/20\n",
        "438/438 ━━━━━━━━━━━━━━━━━━━━ 0s 259ms/step - loss: 1.2139\n",
        " mean perplexity: 7.990786141496364\n",
        "\n",
        "Stopping training...\n",
        "438/438 ━━━━━━━━━━━━━━━━━━━━ 149s 306ms/step - loss: 1.2139\n",
        "\n",
        "Generacion de la Secuencia\n",
        "gregorio samsa se despertó a la madre y la hermana en la madre y l\n",
        "\n",
        "Beam search y muestreo aleatorio\n",
        "gregorio samsa se despertó una puerta de la herman"
      ],
      "metadata": {
        "id": "R3vbk7cnBsxI"
      }
    },
    {
      "cell_type": "markdown",
      "source": [
        "#**Concluciones:**\n",
        "Se probaron los 3 modelos con una cantidad de nodos diferentes para igualar la cant de parametros totales.\n",
        "\n",
        "En las series temporales hay una regla 80/20 es decir que solo se puede predecir hasta un 20% del historial que se tiene. Es decir de un contexto de 100 caracteres se podria predecir hasta unos 20. En nuestro caso los modelos solo predecian aceptablemente hasta 1 caracteres para adelante.\n",
        "\n",
        "SimpleRNN A pesar de tener menor profundidad semántica, el modelo SimpleRNN logró la perplejidad mas baja y una secuencia coherente aunque repetitiva. Su velocidad de entrenamiento fue la más rápida.Aumentar el contexto no ayudo a la generalizacion ni mejoro las construcciones gramaticales. Todo lo contrario al bajar el contexto a 60 se mantuvieron los resultados y el modelo convergio mas rapido.\n",
        "\n",
        "LSTM Aunque más potente en teoría, el LSTM presentó la mayor perplejidad de los tres. La secuencia generada fue menos coherente y tendió a bucles gramaticales. Su tiempo de entrenamiento fue significativamente mayor.\n",
        "\n",
        "El GRU ofreció el mejor balance entre rendimiento y calidad generativa. Aunque no alcanzó la secuencia original exacta, produjo construcciones gramaticales mas reales y con mayor consistencia semántica que LSTM o SimpleRNN.\n",
        "\n"
      ],
      "metadata": {
        "id": "Ndta_3MM-Tv3"
      }
    },
    {
      "cell_type": "markdown",
      "source": [
        "Se probo con optimizador ADAM sin lograr mejoras\n",
        "LSTM\n",
        "Epoch 10/20\n",
        "437/438 ━━━━━━━━━━━━━━━━━━━━ 0s 15ms/step - loss: 1.4973\n",
        " mean perplexity: 7.111439708771744\n",
        "\n",
        "Stopping training...\n",
        "438/438 ━━━━━━━━━━━━━━━━━━━━ 8s 17ms/step - loss: 1.4973"
      ],
      "metadata": {
        "id": "APm45v_2DOG7"
      }
    }
  ],
  "metadata": {
    "accelerator": "GPU",
    "colab": {
      "gpuType": "T4",
      "provenance": [],
      "include_colab_link": true
    },
    "kernelspec": {
      "display_name": "Python 3",
      "name": "python3"
    },
    "language_info": {
      "name": "python"
    }
  },
  "nbformat": 4,
  "nbformat_minor": 0
}