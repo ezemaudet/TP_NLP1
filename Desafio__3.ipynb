{
  "cells": [
    {
      "cell_type": "markdown",
      "metadata": {
        "id": "view-in-github",
        "colab_type": "text"
      },
      "source": [
        "<a href=\"https://colab.research.google.com/github/ezemaudet/TP_NLP1/blob/main/Desafio__3.ipynb\" target=\"_parent\"><img src=\"https://colab.research.google.com/assets/colab-badge.svg\" alt=\"Open In Colab\"/></a>"
      ]
    },
    {
      "cell_type": "markdown",
      "metadata": {
        "id": "g3yeJGnCYxuF"
      },
      "source": [
        "<img src=\"https://github.com/hernancontigiani/ceia_memorias_especializacion/raw/master/Figures/logoFIUBA.jpg\" width=\"500\" align=\"center\">\n",
        "\n",
        "\n",
        "# Procesamiento de lenguaje natural\n",
        "## Modelo de lenguaje con tokenización por caracteres"
      ]
    },
    {
      "cell_type": "markdown",
      "metadata": {
        "id": "Iv5PEwGzZA9-"
      },
      "source": [
        "### Consigna\n",
        "- Seleccionar un corpus de texto sobre el cual entrenar el modelo de lenguaje.\n",
        "- Realizar el pre-procesamiento adecuado para tokenizar el corpus, estructurar el dataset y separar entre datos de entrenamiento y validación.\n",
        "- Proponer arquitecturas de redes neuronales basadas en unidades recurrentes para implementar un modelo de lenguaje.\n",
        "- Con el o los modelos que consideren adecuados, generar nuevas secuencias a partir de secuencias de contexto con las estrategias de greedy search y beam search determístico y estocástico. En este último caso observar el efecto de la temperatura en la generación de secuencias.\n",
        "\n",
        "\n",
        "### Sugerencias\n",
        "- Durante el entrenamiento, guiarse por el descenso de la perplejidad en los datos de validación para finalizar el entrenamiento. Para ello se provee un callback.\n",
        "- Explorar utilizar SimpleRNN (celda de Elman), LSTM y GRU.\n",
        "- rmsprop es el optimizador recomendado para la buena convergencia. No obstante se pueden explorar otros.\n"
      ]
    },
    {
      "cell_type": "code",
      "execution_count": 1,
      "metadata": {
        "id": "Y-QdFbHZYj7C"
      },
      "outputs": [],
      "source": [
        "import random\n",
        "import io\n",
        "import pickle\n",
        "\n",
        "import numpy as np\n",
        "import pandas as pd\n",
        "import matplotlib.pyplot as plt\n",
        "from sklearn.model_selection import train_test_split\n",
        "\n",
        "from tensorflow import keras\n",
        "from tensorflow.keras import layers\n",
        "from keras.utils import to_categorical\n",
        "from keras.models import Sequential\n",
        "from keras.layers import Dense, LSTM, Embedding, Dropout\n",
        "from tensorflow.keras.losses import SparseCategoricalCrossentropy"
      ]
    },
    {
      "cell_type": "markdown",
      "metadata": {
        "id": "xTvXlEKQZdqx"
      },
      "source": [
        "### Datos\n",
        "Utilizaremos como dataset canciones de bandas de habla inglés."
      ]
    },
    {
      "cell_type": "code",
      "execution_count": 2,
      "metadata": {
        "id": "7amy6uUaBLVD"
      },
      "outputs": [],
      "source": [
        "# descargar de textos.info\n",
        "import urllib.request\n",
        "\n",
        "# Para leer y parsear el texto en HTML de wikipedia\n",
        "import bs4 as bs"
      ]
    },
    {
      "cell_type": "code",
      "execution_count": 3,
      "metadata": {
        "id": "6v_ickFwBJTy"
      },
      "outputs": [],
      "source": [
        "raw_html = urllib.request.urlopen('https://www.textos.info/franz-kafka/la-metamorfosis/ebook')\n",
        "raw_html = raw_html.read()\n",
        "\n",
        "# Parsear artículo, 'lxml' es el parser a utilizar\n",
        "article_html = bs.BeautifulSoup(raw_html, 'lxml')\n",
        "\n",
        "# Encontrar todos los párrafos del HTML (bajo el tag <p>)\n",
        "# y tenerlos disponible como lista\n",
        "article_paragraphs = article_html.find_all('p')\n",
        "\n",
        "article_text = ''\n",
        "\n",
        "for para in article_paragraphs:\n",
        "    article_text += para.text + ' '\n",
        "\n",
        "# pasar todo el texto a minúscula\n",
        "article_text = article_text.lower()"
      ]
    },
    {
      "cell_type": "code",
      "execution_count": 4,
      "metadata": {
        "id": "WBE0sSYuB-E6",
        "colab": {
          "base_uri": "https://localhost:8080/",
          "height": 182
        },
        "outputId": "cb062d9e-8bc1-45bb-ea03-e62aa5c5f03e"
      },
      "outputs": [
        {
          "output_type": "execute_result",
          "data": {
            "text/plain": [
              "' cuando gregorio samsa se despertó una mañana después de un sueño \\r\\nintranquilo, se encontró sobre su cama convertido en un monstruoso \\r\\ninsecto. estaba tumbado sobre su espalda dura, y en forma de caparazón \\r\\ny, al levantar un poco la cabeza veía un vientre abombado, parduzco, \\r\\ndividido por partes duras en forma de arco, sobre cuya protuberancia \\r\\napenas podía mantenerse el cobertor, a punto ya de resbalar al suelo. \\r\\nsus muchas patas, ridículamente pequeñas en comparación con el resto de \\r\\nsu tamaño, le vibraban desamparadas ante los ojos. «¿qué me ha ocurrido?», pensó. no era un sueño. su habitación, una auténtica habitación humana, si \\r\\nbien algo pequeña, permanecía tranquila entre las cuatro paredes harto \\r\\nconocidas. por encima de la mesa, sobre la que se encontraba extendido \\r\\nun muestrario de paños desempaquetados —samsa era viajante de comercio—,\\r\\n estaba colgado aquel cuadro que hacía poco había recortado de una \\r\\nrevista y había colocado en un bonito marco dorado. represent'"
            ],
            "application/vnd.google.colaboratory.intrinsic+json": {
              "type": "string"
            }
          },
          "metadata": {},
          "execution_count": 4
        }
      ],
      "source": [
        "# en article text se encuentra el texto de todo el libro\n",
        "article_text[:1000]"
      ]
    },
    {
      "cell_type": "markdown",
      "metadata": {
        "id": "cP1JdiOIKQWi"
      },
      "source": [
        "### Elegir el tamaño del contexto\n",
        "\n",
        "En este caso, como el modelo de lenguaje es por caracteres, todo un gran corpus\n",
        "de texto puede ser considerado un documento en sí mismo y el tamaño de contexto\n",
        "puede ser elegido con más libertad en comparación a un modelo de lenguaje tokenizado por palabras y dividido en documentos más acotados."
      ]
    },
    {
      "cell_type": "code",
      "execution_count": 5,
      "metadata": {
        "id": "wumBNwdjJM3j"
      },
      "outputs": [],
      "source": [
        "# seleccionamos el tamaño de contexto\n",
        "max_context_size = 60"
      ]
    },
    {
      "cell_type": "code",
      "execution_count": 6,
      "metadata": {
        "id": "m5FeTaGvbDbw"
      },
      "outputs": [],
      "source": [
        "# Usaremos las utilidades de procesamiento de textos y secuencias de Keras\n",
        "from tensorflow.keras.utils import pad_sequences # se utilizará para padding"
      ]
    },
    {
      "cell_type": "code",
      "execution_count": 7,
      "metadata": {
        "id": "573Cg5n7VhWw"
      },
      "outputs": [],
      "source": [
        "# en este caso el vocabulario es el conjunto único de caracteres que existe en todo el texto\n",
        "chars_vocab = set(article_text)"
      ]
    },
    {
      "cell_type": "code",
      "execution_count": 8,
      "metadata": {
        "id": "VwTK6xgLJd8q",
        "colab": {
          "base_uri": "https://localhost:8080/"
        },
        "outputId": "f336d007-cd26-4b1b-811f-1796bce2ec85"
      },
      "outputs": [
        {
          "output_type": "execute_result",
          "data": {
            "text/plain": [
              "59"
            ]
          },
          "metadata": {},
          "execution_count": 8
        }
      ],
      "source": [
        "# la longitud de vocabulario de caracteres es:\n",
        "len(chars_vocab)"
      ]
    },
    {
      "cell_type": "code",
      "source": [
        "chars_vocab"
      ],
      "metadata": {
        "colab": {
          "base_uri": "https://localhost:8080/"
        },
        "id": "7Q4mOCwHsFoY",
        "outputId": "c360704c-ab6b-46d4-902b-2e7147bd1562"
      },
      "execution_count": 9,
      "outputs": [
        {
          "output_type": "execute_result",
          "data": {
            "text/plain": [
              "{'\\t',\n",
              " '\\n',\n",
              " '\\r',\n",
              " ' ',\n",
              " '!',\n",
              " '(',\n",
              " ')',\n",
              " ',',\n",
              " '-',\n",
              " '.',\n",
              " '/',\n",
              " '0',\n",
              " '1',\n",
              " '2',\n",
              " '3',\n",
              " '4',\n",
              " '6',\n",
              " '7',\n",
              " '8',\n",
              " ':',\n",
              " ';',\n",
              " '?',\n",
              " 'a',\n",
              " 'b',\n",
              " 'c',\n",
              " 'd',\n",
              " 'e',\n",
              " 'f',\n",
              " 'g',\n",
              " 'h',\n",
              " 'i',\n",
              " 'j',\n",
              " 'l',\n",
              " 'm',\n",
              " 'n',\n",
              " 'o',\n",
              " 'p',\n",
              " 'q',\n",
              " 'r',\n",
              " 's',\n",
              " 't',\n",
              " 'u',\n",
              " 'v',\n",
              " 'w',\n",
              " 'x',\n",
              " 'y',\n",
              " 'z',\n",
              " '¡',\n",
              " '«',\n",
              " '»',\n",
              " '¿',\n",
              " 'á',\n",
              " 'é',\n",
              " 'í',\n",
              " 'ñ',\n",
              " 'ó',\n",
              " 'ú',\n",
              " 'ü',\n",
              " '—'}"
            ]
          },
          "metadata": {},
          "execution_count": 9
        }
      ]
    },
    {
      "cell_type": "code",
      "execution_count": 10,
      "metadata": {
        "id": "2W0AeQjXV1Ou"
      },
      "outputs": [],
      "source": [
        "# Construimos los dicionarios que asignan índices a caracteres y viceversa.\n",
        "# El diccionario `char2idx` servirá como tokenizador.\n",
        "char2idx = {k: v for v,k in enumerate(chars_vocab)}\n",
        "idx2char = {v: k for k,v in char2idx.items()}"
      ]
    },
    {
      "cell_type": "markdown",
      "metadata": {
        "id": "2oIUjVU0LB0r"
      },
      "source": [
        "###  Tokenizar"
      ]
    },
    {
      "cell_type": "code",
      "execution_count": 11,
      "metadata": {
        "id": "h07G3srdJppo"
      },
      "outputs": [],
      "source": [
        "# tokenizamos el texto completo\n",
        "tokenized_text = [char2idx[ch] for ch in article_text]"
      ]
    },
    {
      "cell_type": "code",
      "execution_count": 12,
      "metadata": {
        "id": "PwGVSKOiJ5bj",
        "colab": {
          "base_uri": "https://localhost:8080/"
        },
        "outputId": "9a23630f-476a-4404-af0f-9ee7c064350d"
      },
      "outputs": [
        {
          "output_type": "execute_result",
          "data": {
            "text/plain": [
              "[3,\n",
              " 6,\n",
              " 28,\n",
              " 8,\n",
              " 42,\n",
              " 19,\n",
              " 55,\n",
              " 3,\n",
              " 7,\n",
              " 34,\n",
              " 9,\n",
              " 7,\n",
              " 55,\n",
              " 34,\n",
              " 25,\n",
              " 55,\n",
              " 3,\n",
              " 57,\n",
              " 8,\n",
              " 14,\n",
              " 57,\n",
              " 8,\n",
              " 3,\n",
              " 57,\n",
              " 9,\n",
              " 3,\n",
              " 19,\n",
              " 9,\n",
              " 57,\n",
              " 35,\n",
              " 9,\n",
              " 34,\n",
              " 26,\n",
              " 56,\n",
              " 3,\n",
              " 28,\n",
              " 42,\n",
              " 8,\n",
              " 3,\n",
              " 14,\n",
              " 8,\n",
              " 40,\n",
              " 8,\n",
              " 42,\n",
              " 8,\n",
              " 3,\n",
              " 19,\n",
              " 9,\n",
              " 57,\n",
              " 35,\n",
              " 28,\n",
              " 10,\n",
              " 57,\n",
              " 3,\n",
              " 19,\n",
              " 9,\n",
              " 3,\n",
              " 28,\n",
              " 42,\n",
              " 3,\n",
              " 57,\n",
              " 28,\n",
              " 9,\n",
              " 40,\n",
              " 55,\n",
              " 3,\n",
              " 54,\n",
              " 1,\n",
              " 25,\n",
              " 42,\n",
              " 26,\n",
              " 34,\n",
              " 8,\n",
              " 42,\n",
              " 11,\n",
              " 28,\n",
              " 25,\n",
              " 4,\n",
              " 55,\n",
              " 15,\n",
              " 3,\n",
              " 57,\n",
              " 9,\n",
              " 3,\n",
              " 9,\n",
              " 42,\n",
              " 6,\n",
              " 55,\n",
              " 42,\n",
              " 26,\n",
              " 34,\n",
              " 56,\n",
              " 3,\n",
              " 57,\n",
              " 55,\n",
              " 44,\n",
              " 34,\n",
              " 9,\n",
              " 3,\n",
              " 57,\n",
              " 28,\n",
              " 3,\n",
              " 6,\n",
              " 8,\n",
              " 14,\n",
              " 8,\n",
              " 3,\n",
              " 6,\n",
              " 55,\n",
              " 42,\n",
              " 12,\n",
              " 9,\n",
              " 34,\n",
              " 26,\n",
              " 25,\n",
              " 19,\n",
              " 55,\n",
              " 3,\n",
              " 9,\n",
              " 42,\n",
              " 3,\n",
              " 28,\n",
              " 42,\n",
              " 3,\n",
              " 14,\n",
              " 55,\n",
              " 42,\n",
              " 57,\n",
              " 26,\n",
              " 34,\n",
              " 28,\n",
              " 55,\n",
              " 57,\n",
              " 55,\n",
              " 3,\n",
              " 54,\n",
              " 1,\n",
              " 25,\n",
              " 42,\n",
              " 57,\n",
              " 9,\n",
              " 6,\n",
              " 26,\n",
              " 55,\n",
              " 27,\n",
              " 3,\n",
              " 9,\n",
              " 57,\n",
              " 26,\n",
              " 8,\n",
              " 44,\n",
              " 8,\n",
              " 3,\n",
              " 26,\n",
              " 28,\n",
              " 14,\n",
              " 44,\n",
              " 8,\n",
              " 19,\n",
              " 55,\n",
              " 3,\n",
              " 57,\n",
              " 55,\n",
              " 44,\n",
              " 34,\n",
              " 9,\n",
              " 3,\n",
              " 57,\n",
              " 28,\n",
              " 3,\n",
              " 9,\n",
              " 57,\n",
              " 35,\n",
              " 8,\n",
              " 4,\n",
              " 19,\n",
              " 8,\n",
              " 3,\n",
              " 19,\n",
              " 28,\n",
              " 34,\n",
              " 8,\n",
              " 15,\n",
              " 3,\n",
              " 53,\n",
              " 3,\n",
              " 9,\n",
              " 42,\n",
              " 3,\n",
              " 22,\n",
              " 55,\n",
              " 34,\n",
              " 14,\n",
              " 8,\n",
              " 3,\n",
              " 19,\n",
              " 9,\n",
              " 3,\n",
              " 6,\n",
              " 8,\n",
              " 35,\n",
              " 8,\n",
              " 34,\n",
              " 8,\n",
              " 16,\n",
              " 56,\n",
              " 42,\n",
              " 3,\n",
              " 54,\n",
              " 1,\n",
              " 53,\n",
              " 15,\n",
              " 3,\n",
              " 8,\n",
              " 4,\n",
              " 3,\n",
              " 4,\n",
              " 9,\n",
              " 12,\n",
              " 8,\n",
              " 42,\n",
              " 26,\n",
              " 8,\n",
              " 34,\n",
              " 3,\n",
              " 28,\n",
              " 42,\n",
              " 3,\n",
              " 35,\n",
              " 55,\n",
              " 6,\n",
              " 55,\n",
              " 3,\n",
              " 4,\n",
              " 8,\n",
              " 3,\n",
              " 6,\n",
              " 8,\n",
              " 44,\n",
              " 9,\n",
              " 16,\n",
              " 8,\n",
              " 3,\n",
              " 12,\n",
              " 9,\n",
              " 37,\n",
              " 8,\n",
              " 3,\n",
              " 28,\n",
              " 42,\n",
              " 3,\n",
              " 12,\n",
              " 25,\n",
              " 9,\n",
              " 42,\n",
              " 26,\n",
              " 34,\n",
              " 9,\n",
              " 3,\n",
              " 8,\n",
              " 44,\n",
              " 55,\n",
              " 14,\n",
              " 44,\n",
              " 8,\n",
              " 19,\n",
              " 55,\n",
              " 15,\n",
              " 3,\n",
              " 35,\n",
              " 8,\n",
              " 34,\n",
              " 19,\n",
              " 28,\n",
              " 16,\n",
              " 6,\n",
              " 55,\n",
              " 15,\n",
              " 3,\n",
              " 54,\n",
              " 1,\n",
              " 19,\n",
              " 25,\n",
              " 12,\n",
              " 25,\n",
              " 19,\n",
              " 25,\n",
              " 19,\n",
              " 55,\n",
              " 3,\n",
              " 35,\n",
              " 55,\n",
              " 34,\n",
              " 3,\n",
              " 35,\n",
              " 8,\n",
              " 34,\n",
              " 26,\n",
              " 9,\n",
              " 57,\n",
              " 3,\n",
              " 19,\n",
              " 28,\n",
              " 34,\n",
              " 8,\n",
              " 57,\n",
              " 3,\n",
              " 9,\n",
              " 42,\n",
              " 3,\n",
              " 22,\n",
              " 55,\n",
              " 34,\n",
              " 14,\n",
              " 8,\n",
              " 3,\n",
              " 19,\n",
              " 9,\n",
              " 3,\n",
              " 8,\n",
              " 34,\n",
              " 6,\n",
              " 55,\n",
              " 15,\n",
              " 3,\n",
              " 57,\n",
              " 55,\n",
              " 44,\n",
              " 34,\n",
              " 9,\n",
              " 3,\n",
              " 6,\n",
              " 28,\n",
              " 53,\n",
              " 8,\n",
              " 3,\n",
              " 35,\n",
              " 34,\n",
              " 55,\n",
              " 26,\n",
              " 28,\n",
              " 44,\n",
              " 9,\n",
              " 34,\n",
              " 8,\n",
              " 42,\n",
              " 6,\n",
              " 25,\n",
              " 8,\n",
              " 3,\n",
              " 54,\n",
              " 1,\n",
              " 8,\n",
              " 35,\n",
              " 9,\n",
              " 42,\n",
              " 8,\n",
              " 57,\n",
              " 3,\n",
              " 35,\n",
              " 55,\n",
              " 19,\n",
              " 37,\n",
              " 8,\n",
              " 3,\n",
              " 14,\n",
              " 8,\n",
              " 42,\n",
              " 26,\n",
              " 9,\n",
              " 42,\n",
              " 9,\n",
              " 34,\n",
              " 57,\n",
              " 9,\n",
              " 3,\n",
              " 9,\n",
              " 4,\n",
              " 3,\n",
              " 6,\n",
              " 55,\n",
              " 44,\n",
              " 9,\n",
              " 34,\n",
              " 26,\n",
              " 55,\n",
              " 34,\n",
              " 15,\n",
              " 3,\n",
              " 8,\n",
              " 3,\n",
              " 35,\n",
              " 28,\n",
              " 42,\n",
              " 26,\n",
              " 55,\n",
              " 3,\n",
              " 53,\n",
              " 8,\n",
              " 3,\n",
              " 19,\n",
              " 9,\n",
              " 3,\n",
              " 34,\n",
              " 9,\n",
              " 57,\n",
              " 44,\n",
              " 8,\n",
              " 4,\n",
              " 8,\n",
              " 34,\n",
              " 3,\n",
              " 8,\n",
              " 4,\n",
              " 3,\n",
              " 57,\n",
              " 28,\n",
              " 9,\n",
              " 4,\n",
              " 55,\n",
              " 27,\n",
              " 3,\n",
              " 54,\n",
              " 1,\n",
              " 57,\n",
              " 28,\n",
              " 57,\n",
              " 3,\n",
              " 14,\n",
              " 28,\n",
              " 6,\n",
              " 13,\n",
              " 8,\n",
              " 57,\n",
              " 3,\n",
              " 35,\n",
              " 8,\n",
              " 26,\n",
              " 8,\n",
              " 57,\n",
              " 15,\n",
              " 3,\n",
              " 34,\n",
              " 25,\n",
              " 19,\n",
              " 37,\n",
              " 6,\n",
              " 28,\n",
              " 4,\n",
              " 8,\n",
              " 14,\n",
              " 9,\n",
              " 42,\n",
              " 26,\n",
              " 9,\n",
              " 3,\n",
              " 35,\n",
              " 9,\n",
              " 11,\n",
              " 28,\n",
              " 9,\n",
              " 40,\n",
              " 8,\n",
              " 57,\n",
              " 3,\n",
              " 9,\n",
              " 42,\n",
              " 3,\n",
              " 6,\n",
              " 55,\n",
              " 14,\n",
              " 35,\n",
              " 8,\n",
              " 34,\n",
              " 8,\n",
              " 6,\n",
              " 25,\n",
              " 56,\n",
              " 42,\n",
              " 3,\n",
              " 6,\n",
              " 55,\n",
              " 42,\n",
              " 3,\n",
              " 9,\n",
              " 4,\n",
              " 3,\n",
              " 34,\n",
              " 9,\n",
              " 57,\n",
              " 26,\n",
              " 55,\n",
              " 3,\n",
              " 19,\n",
              " 9,\n",
              " 3,\n",
              " 54,\n",
              " 1,\n",
              " 57,\n",
              " 28,\n",
              " 3,\n",
              " 26,\n",
              " 8,\n",
              " 14,\n",
              " 8,\n",
              " 40,\n",
              " 55,\n",
              " 15,\n",
              " 3,\n",
              " 4,\n",
              " 9,\n",
              " 3,\n",
              " 12,\n",
              " 25,\n",
              " 44,\n",
              " 34,\n",
              " 8,\n",
              " 44,\n",
              " 8,\n",
              " 42,\n",
              " 3,\n",
              " 19,\n",
              " 9,\n",
              " 57,\n",
              " 8,\n",
              " 14,\n",
              " 35,\n",
              " 8,\n",
              " 34,\n",
              " 8,\n",
              " 19,\n",
              " 8,\n",
              " 57,\n",
              " 3,\n",
              " 8,\n",
              " 42,\n",
              " 26,\n",
              " 9,\n",
              " 3,\n",
              " 4,\n",
              " 55,\n",
              " 57,\n",
              " 3,\n",
              " 55,\n",
              " 48,\n",
              " 55,\n",
              " 57,\n",
              " 27,\n",
              " 3,\n",
              " 46,\n",
              " 41,\n",
              " 11,\n",
              " 28,\n",
              " 10,\n",
              " 3,\n",
              " 14,\n",
              " 9,\n",
              " 3,\n",
              " 13,\n",
              " 8,\n",
              " 3,\n",
              " 55,\n",
              " 6,\n",
              " 28,\n",
              " 34,\n",
              " 34,\n",
              " 25,\n",
              " 19,\n",
              " 55,\n",
              " 36,\n",
              " 18,\n",
              " 15,\n",
              " 3,\n",
              " 35,\n",
              " 9,\n",
              " 42,\n",
              " 57,\n",
              " 56,\n",
              " 27,\n",
              " 3,\n",
              " 42,\n",
              " 55,\n",
              " 3,\n",
              " 9,\n",
              " 34,\n",
              " 8,\n",
              " 3,\n",
              " 28,\n",
              " 42,\n",
              " 3,\n",
              " 57,\n",
              " 28,\n",
              " 9,\n",
              " 40,\n",
              " 55,\n",
              " 27,\n",
              " 3,\n",
              " 57,\n",
              " 28,\n",
              " 3,\n",
              " 13,\n",
              " 8,\n",
              " 44,\n",
              " 25,\n",
              " 26,\n",
              " 8,\n",
              " 6,\n",
              " 25,\n",
              " 56,\n",
              " 42,\n",
              " 15,\n",
              " 3,\n",
              " 28,\n",
              " 42,\n",
              " 8,\n",
              " 3,\n",
              " 8,\n",
              " 28,\n",
              " 26,\n",
              " 10,\n",
              " 42,\n",
              " 26,\n",
              " 25,\n",
              " 6,\n",
              " 8,\n",
              " 3,\n",
              " 13,\n",
              " 8,\n",
              " 44,\n",
              " 25,\n",
              " 26,\n",
              " 8,\n",
              " 6,\n",
              " 25,\n",
              " 56,\n",
              " 42,\n",
              " 3,\n",
              " 13,\n",
              " 28,\n",
              " 14,\n",
              " 8,\n",
              " 42,\n",
              " 8,\n",
              " 15,\n",
              " 3,\n",
              " 57,\n",
              " 25,\n",
              " 3,\n",
              " 54,\n",
              " 1,\n",
              " 44,\n",
              " 25,\n",
              " 9,\n",
              " 42,\n",
              " 3,\n",
              " 8,\n",
              " 4,\n",
              " 7,\n",
              " 55,\n",
              " 3,\n",
              " 35,\n",
              " 9,\n",
              " 11,\n",
              " 28,\n",
              " 9,\n",
              " 40,\n",
              " 8,\n",
              " 15,\n",
              " 3,\n",
              " 35,\n",
              " 9,\n",
              " 34,\n",
              " 14,\n",
              " 8,\n",
              " 42,\n",
              " 9,\n",
              " 6,\n",
              " 37,\n",
              " 8,\n",
              " 3,\n",
              " 26,\n",
              " 34,\n",
              " 8,\n",
              " 42,\n",
              " 11,\n",
              " 28,\n",
              " 25,\n",
              " 4,\n",
              " 8,\n",
              " 3,\n",
              " 9,\n",
              " 42,\n",
              " 26,\n",
              " 34,\n",
              " 9,\n",
              " 3,\n",
              " 4,\n",
              " 8,\n",
              " 57,\n",
              " 3,\n",
              " 6,\n",
              " 28,\n",
              " 8,\n",
              " 26,\n",
              " 34,\n",
              " 55,\n",
              " 3,\n",
              " 35,\n",
              " 8,\n",
              " 34,\n",
              " 9,\n",
              " 19,\n",
              " 9,\n",
              " 57,\n",
              " 3,\n",
              " 13,\n",
              " 8,\n",
              " 34,\n",
              " 26,\n",
              " 55,\n",
              " 3,\n",
              " 54,\n",
              " 1,\n",
              " 6,\n",
              " 55,\n",
              " 42,\n",
              " 55,\n",
              " 6,\n",
              " 25,\n",
              " 19,\n",
              " 8,\n",
              " 57,\n",
              " 27,\n",
              " 3,\n",
              " 35,\n",
              " 55,\n",
              " 34,\n",
              " 3,\n",
              " 9,\n",
              " 42,\n",
              " 6,\n",
              " 25,\n",
              " 14,\n",
              " 8,\n",
              " 3,\n",
              " 19,\n",
              " 9,\n",
              " 3,\n",
              " 4,\n",
              " 8,\n",
              " 3,\n",
              " 14,\n",
              " 9,\n",
              " 57,\n",
              " 8,\n",
              " 15,\n",
              " 3,\n",
              " 57,\n",
              " 55,\n",
              " 44,\n",
              " 34,\n",
              " 9,\n",
              " 3,\n",
              " 4,\n",
              " 8,\n",
              " 3,\n",
              " 11,\n",
              " 28,\n",
              " 9,\n",
              " 3,\n",
              " 57,\n",
              " 9,\n",
              " 3,\n",
              " 9,\n",
              " 42,\n",
              " 6,\n",
              " 55,\n",
              " 42,\n",
              " 26,\n",
              " 34,\n",
              " 8,\n",
              " 44,\n",
              " 8,\n",
              " 3,\n",
              " 9,\n",
              " 58,\n",
              " 26,\n",
              " 9,\n",
              " 42,\n",
              " 19,\n",
              " 25,\n",
              " 19,\n",
              " 55,\n",
              " 3,\n",
              " 54,\n",
              " 1,\n",
              " 28,\n",
              " 42,\n",
              " 3,\n",
              " 14,\n",
              " 28,\n",
              " 9,\n",
              " 57,\n",
              " 26,\n",
              " 34,\n",
              " 8,\n",
              " 34,\n",
              " 25,\n",
              " 55,\n",
              " 3,\n",
              " 19,\n",
              " 9,\n",
              " 3,\n",
              " 35,\n",
              " 8,\n",
              " 40,\n",
              " 55,\n",
              " 57,\n",
              " 3,\n",
              " 19,\n",
              " 9,\n",
              " 57,\n",
              " 9,\n",
              " 14,\n",
              " 35,\n",
              " 8,\n",
              " 11,\n",
              " 28,\n",
              " 9,\n",
              " 26,\n",
              " 8,\n",
              " 19,\n",
              " 55,\n",
              " 57,\n",
              " 3,\n",
              " 38,\n",
              " 57,\n",
              " 8,\n",
              " 14,\n",
              " 57,\n",
              " 8,\n",
              " 3,\n",
              " 9,\n",
              " 34,\n",
              " 8,\n",
              " 3,\n",
              " 12,\n",
              " 25,\n",
              " 8,\n",
              " 48,\n",
              " 8,\n",
              " 42,\n",
              " 26,\n",
              " 9,\n",
              " 3,\n",
              " 19,\n",
              " 9,\n",
              " 3,\n",
              " 6,\n",
              " 55,\n",
              " 14,\n",
              " 9,\n",
              " 34,\n",
              " 6,\n",
              " 25,\n",
              " 55,\n",
              " 38,\n",
              " 15,\n",
              " 54,\n",
              " 1,\n",
              " 3,\n",
              " 9,\n",
              " 57,\n",
              " 26,\n",
              " 8,\n",
              " 44,\n",
              " 8,\n",
              " 3,\n",
              " 6,\n",
              " 55,\n",
              " 4,\n",
              " 7,\n",
              " 8,\n",
              " 19,\n",
              " 55,\n",
              " 3,\n",
              " 8,\n",
              " 11,\n",
              " 28,\n",
              " 9,\n",
              " 4,\n",
              " 3,\n",
              " 6,\n",
              " 28,\n",
              " 8,\n",
              " 19,\n",
              " 34,\n",
              " 55,\n",
              " 3,\n",
              " 11,\n",
              " 28,\n",
              " 9,\n",
              " 3,\n",
              " 13,\n",
              " 8,\n",
              " 6,\n",
              " 37,\n",
              " 8,\n",
              " 3,\n",
              " 35,\n",
              " 55,\n",
              " 6,\n",
              " 55,\n",
              " 3,\n",
              " 13,\n",
              " 8,\n",
              " 44,\n",
              " 37,\n",
              " 8,\n",
              " 3,\n",
              " 34,\n",
              " 9,\n",
              " 6,\n",
              " 55,\n",
              " 34,\n",
              " 26,\n",
              " 8,\n",
              " 19,\n",
              " 55,\n",
              " 3,\n",
              " 19,\n",
              " 9,\n",
              " 3,\n",
              " 28,\n",
              " 42,\n",
              " 8,\n",
              " 3,\n",
              " 54,\n",
              " 1,\n",
              " 34,\n",
              " 9,\n",
              " 12,\n",
              " 25,\n",
              " 57,\n",
              " 26,\n",
              " 8,\n",
              " 3,\n",
              " 53,\n",
              " 3,\n",
              " 13,\n",
              " 8,\n",
              " 44,\n",
              " 37,\n",
              " 8,\n",
              " 3,\n",
              " 6,\n",
              " 55,\n",
              " 4,\n",
              " 55,\n",
              " 6,\n",
              " 8,\n",
              " 19,\n",
              " 55,\n",
              " 3,\n",
              " 9,\n",
              " 42,\n",
              " 3,\n",
              " 28,\n",
              " 42,\n",
              " 3,\n",
              " 44,\n",
              " 55,\n",
              " 42,\n",
              " 25,\n",
              " 26,\n",
              " 55,\n",
              " 3,\n",
              " 14,\n",
              " 8,\n",
              " 34,\n",
              " 6,\n",
              " 55,\n",
              " 3,\n",
              " 19,\n",
              " 55,\n",
              " 34,\n",
              " 8,\n",
              " 19,\n",
              " 55,\n",
              " 27,\n",
              " 3,\n",
              " 34,\n",
              " 9,\n",
              " 35,\n",
              " 34,\n",
              " 9,\n",
              " 57,\n",
              " 9,\n",
              " 42,\n",
              " 26]"
            ]
          },
          "metadata": {},
          "execution_count": 12
        }
      ],
      "source": [
        "tokenized_text[:1000]"
      ]
    },
    {
      "cell_type": "markdown",
      "metadata": {
        "id": "pfpYcaypKcI9"
      },
      "source": [
        "### Organizando y estructurando el dataset"
      ]
    },
    {
      "cell_type": "code",
      "execution_count": 13,
      "metadata": {
        "id": "WSSmg9jtKP0T"
      },
      "outputs": [],
      "source": [
        "# separaremos el dataset entre entrenamiento y validación.\n",
        "# `p_val` será la proporción del corpus que se reservará para validación\n",
        "# `num_val` es la cantidad de secuencias de tamaño `max_context_size` que se usará en validación\n",
        "p_val = 0.1\n",
        "num_val = int(np.ceil(len(tokenized_text)*p_val/max_context_size))"
      ]
    },
    {
      "cell_type": "code",
      "execution_count": 14,
      "metadata": {
        "id": "b7dCpGrdKll0"
      },
      "outputs": [],
      "source": [
        "# separamos la porción de texto utilizada en entrenamiento de la de validación.\n",
        "train_text = tokenized_text[:-num_val*max_context_size]\n",
        "val_text = tokenized_text[-num_val*max_context_size:]"
      ]
    },
    {
      "cell_type": "code",
      "execution_count": 15,
      "metadata": {
        "id": "NmxQdxl8LRCg"
      },
      "outputs": [],
      "source": [
        "tokenized_sentences_val = [val_text[init*max_context_size:init*(max_context_size+1)] for init in range(num_val)]"
      ]
    },
    {
      "cell_type": "code",
      "execution_count": 16,
      "metadata": {
        "id": "_gyFT9koLqDm"
      },
      "outputs": [],
      "source": [
        "tokenized_sentences_train = [train_text[init:init+max_context_size] for init in range(len(train_text)-max_context_size+1)]"
      ]
    },
    {
      "cell_type": "code",
      "execution_count": 17,
      "metadata": {
        "id": "oVNqmmLRodT0"
      },
      "outputs": [],
      "source": [
        "X = np.array(tokenized_sentences_train[:-1])\n",
        "y = np.array(tokenized_sentences_train[1:])"
      ]
    },
    {
      "cell_type": "markdown",
      "metadata": {
        "id": "Vken7O4ETsAJ"
      },
      "source": [
        "Nótese que estamos estructurando el problema de aprendizaje como *many-to-many*:\n",
        "\n",
        "Entrada: secuencia de tokens [$x_0$, $x_1$, ..., $x_N$]\n",
        "\n",
        "Target: secuencia de tokens [$x_1$, $x_2$, ..., $x_{N+1}$]\n",
        "\n",
        "De manera que la red tiene que aprender que su salida deben ser los tokens desplazados en una posición y un nuevo token predicho (el N+1).\n",
        "\n",
        "La ventaja de estructurar el aprendizaje de esta manera es que para cada token de target se propaga una señal de gradiente por el grafo de cómputo recurrente, que es mejor que estructurar el problema como *many-to-one* en donde sólo una señal de gradiente se propaga."
      ]
    },
    {
      "cell_type": "markdown",
      "metadata": {
        "id": "l3iPTx-UJl6r"
      },
      "source": [
        "En este punto tenemos en la variable `tokenized_sentences` los versos tokenizados. Vamos a quedarnos con un conjunto de validación que utilizaremos para medir la calidad de la generación de secuencias con la métrica de Perplejidad."
      ]
    },
    {
      "cell_type": "code",
      "execution_count": 18,
      "metadata": {
        "id": "KFAyA4zCWE-5",
        "colab": {
          "base_uri": "https://localhost:8080/"
        },
        "outputId": "ac74e6ce-525d-4793-ffd7-926c5816cd0a"
      },
      "outputs": [
        {
          "output_type": "execute_result",
          "data": {
            "text/plain": [
              "(112119, 60)"
            ]
          },
          "metadata": {},
          "execution_count": 18
        }
      ],
      "source": [
        "X.shape"
      ]
    },
    {
      "cell_type": "code",
      "execution_count": 19,
      "metadata": {
        "id": "qcKRl70HFTzG",
        "colab": {
          "base_uri": "https://localhost:8080/"
        },
        "outputId": "5f6d4043-7981-463b-fc46-655cd7f79451"
      },
      "outputs": [
        {
          "output_type": "execute_result",
          "data": {
            "text/plain": [
              "array([ 3,  6, 28,  8, 42, 19, 55,  3,  7, 34])"
            ]
          },
          "metadata": {},
          "execution_count": 19
        }
      ],
      "source": [
        "X[0,:10]"
      ]
    },
    {
      "cell_type": "code",
      "execution_count": 20,
      "metadata": {
        "id": "TVpLCKSZFXZO",
        "colab": {
          "base_uri": "https://localhost:8080/"
        },
        "outputId": "168b9376-0af3-4c19-b039-841408212550"
      },
      "outputs": [
        {
          "output_type": "execute_result",
          "data": {
            "text/plain": [
              "array([ 6, 28,  8, 42, 19, 55,  3,  7, 34,  9])"
            ]
          },
          "metadata": {},
          "execution_count": 20
        }
      ],
      "source": [
        "y[0,:10]"
      ]
    },
    {
      "cell_type": "code",
      "execution_count": 21,
      "metadata": {
        "id": "wOFCR-KqbW1N"
      },
      "outputs": [],
      "source": [
        "vocab_size = len(chars_vocab)"
      ]
    },
    {
      "cell_type": "markdown",
      "metadata": {
        "id": "tnnjdAQ5UAEJ"
      },
      "source": [
        "# Definiendo el modelo"
      ]
    },
    {
      "cell_type": "code",
      "execution_count": 22,
      "metadata": {
        "id": "rkMCZvmhrQz4"
      },
      "outputs": [],
      "source": [
        "from keras.layers import Input, TimeDistributed, CategoryEncoding, SimpleRNN, Dense\n",
        "from keras.models import Model, Sequential\n",
        "from keras.layers import LSTM\n",
        "from keras.layers import GRU"
      ]
    },
    {
      "cell_type": "markdown",
      "metadata": {
        "id": "wgz7VKwTUbj6"
      },
      "source": [
        "El modelo que se propone como ejemplo consume los índices de los tokens y los transforma en vectores OHE (en este caso no entrenamos una capa de embedding para caracteres). Esa transformación se logra combinando las capas `CategoryEncoding` que transforma a índices a vectores OHE y `TimeDistributed` que aplica la capa a lo largo de la dimensión \"temporal\" de la secuencia."
      ]
    },
    {
      "cell_type": "code",
      "execution_count": 23,
      "metadata": {
        "id": "Zd2OkfQYs2Q7",
        "colab": {
          "base_uri": "https://localhost:8080/",
          "height": 297
        },
        "outputId": "f84693ef-1c36-45cc-996f-34a69ff5918d"
      },
      "outputs": [
        {
          "output_type": "stream",
          "name": "stderr",
          "text": [
            "/usr/local/lib/python3.11/dist-packages/keras/src/layers/core/wrapper.py:27: UserWarning: Do not pass an `input_shape`/`input_dim` argument to a layer. When using Sequential models, prefer using an `Input(shape)` object as the first layer in the model instead.\n",
            "  super().__init__(**kwargs)\n"
          ]
        },
        {
          "output_type": "display_data",
          "data": {
            "text/plain": [
              "\u001b[1mModel: \"sequential\"\u001b[0m\n"
            ],
            "text/html": [
              "<pre style=\"white-space:pre;overflow-x:auto;line-height:normal;font-family:Menlo,'DejaVu Sans Mono',consolas,'Courier New',monospace\"><span style=\"font-weight: bold\">Model: \"sequential\"</span>\n",
              "</pre>\n"
            ]
          },
          "metadata": {}
        },
        {
          "output_type": "display_data",
          "data": {
            "text/plain": [
              "┏━━━━━━━━━━━━━━━━━━━━━━━━━━━━━━━━━┳━━━━━━━━━━━━━━━━━━━━━━━━┳━━━━━━━━━━━━━━━┓\n",
              "┃\u001b[1m \u001b[0m\u001b[1mLayer (type)                   \u001b[0m\u001b[1m \u001b[0m┃\u001b[1m \u001b[0m\u001b[1mOutput Shape          \u001b[0m\u001b[1m \u001b[0m┃\u001b[1m \u001b[0m\u001b[1m      Param #\u001b[0m\u001b[1m \u001b[0m┃\n",
              "┡━━━━━━━━━━━━━━━━━━━━━━━━━━━━━━━━━╇━━━━━━━━━━━━━━━━━━━━━━━━╇━━━━━━━━━━━━━━━┩\n",
              "│ time_distributed                │ (\u001b[38;5;45mNone\u001b[0m, \u001b[38;5;45mNone\u001b[0m, \u001b[38;5;34m59\u001b[0m)       │             \u001b[38;5;34m0\u001b[0m │\n",
              "│ (\u001b[38;5;33mTimeDistributed\u001b[0m)               │                        │               │\n",
              "├─────────────────────────────────┼────────────────────────┼───────────────┤\n",
              "│ simple_rnn (\u001b[38;5;33mSimpleRNN\u001b[0m)          │ (\u001b[38;5;45mNone\u001b[0m, \u001b[38;5;45mNone\u001b[0m, \u001b[38;5;34m200\u001b[0m)      │        \u001b[38;5;34m52,000\u001b[0m │\n",
              "├─────────────────────────────────┼────────────────────────┼───────────────┤\n",
              "│ dense (\u001b[38;5;33mDense\u001b[0m)                   │ (\u001b[38;5;45mNone\u001b[0m, \u001b[38;5;45mNone\u001b[0m, \u001b[38;5;34m59\u001b[0m)       │        \u001b[38;5;34m11,859\u001b[0m │\n",
              "└─────────────────────────────────┴────────────────────────┴───────────────┘\n"
            ],
            "text/html": [
              "<pre style=\"white-space:pre;overflow-x:auto;line-height:normal;font-family:Menlo,'DejaVu Sans Mono',consolas,'Courier New',monospace\">┏━━━━━━━━━━━━━━━━━━━━━━━━━━━━━━━━━┳━━━━━━━━━━━━━━━━━━━━━━━━┳━━━━━━━━━━━━━━━┓\n",
              "┃<span style=\"font-weight: bold\"> Layer (type)                    </span>┃<span style=\"font-weight: bold\"> Output Shape           </span>┃<span style=\"font-weight: bold\">       Param # </span>┃\n",
              "┡━━━━━━━━━━━━━━━━━━━━━━━━━━━━━━━━━╇━━━━━━━━━━━━━━━━━━━━━━━━╇━━━━━━━━━━━━━━━┩\n",
              "│ time_distributed                │ (<span style=\"color: #00d7ff; text-decoration-color: #00d7ff\">None</span>, <span style=\"color: #00d7ff; text-decoration-color: #00d7ff\">None</span>, <span style=\"color: #00af00; text-decoration-color: #00af00\">59</span>)       │             <span style=\"color: #00af00; text-decoration-color: #00af00\">0</span> │\n",
              "│ (<span style=\"color: #0087ff; text-decoration-color: #0087ff\">TimeDistributed</span>)               │                        │               │\n",
              "├─────────────────────────────────┼────────────────────────┼───────────────┤\n",
              "│ simple_rnn (<span style=\"color: #0087ff; text-decoration-color: #0087ff\">SimpleRNN</span>)          │ (<span style=\"color: #00d7ff; text-decoration-color: #00d7ff\">None</span>, <span style=\"color: #00d7ff; text-decoration-color: #00d7ff\">None</span>, <span style=\"color: #00af00; text-decoration-color: #00af00\">200</span>)      │        <span style=\"color: #00af00; text-decoration-color: #00af00\">52,000</span> │\n",
              "├─────────────────────────────────┼────────────────────────┼───────────────┤\n",
              "│ dense (<span style=\"color: #0087ff; text-decoration-color: #0087ff\">Dense</span>)                   │ (<span style=\"color: #00d7ff; text-decoration-color: #00d7ff\">None</span>, <span style=\"color: #00d7ff; text-decoration-color: #00d7ff\">None</span>, <span style=\"color: #00af00; text-decoration-color: #00af00\">59</span>)       │        <span style=\"color: #00af00; text-decoration-color: #00af00\">11,859</span> │\n",
              "└─────────────────────────────────┴────────────────────────┴───────────────┘\n",
              "</pre>\n"
            ]
          },
          "metadata": {}
        },
        {
          "output_type": "display_data",
          "data": {
            "text/plain": [
              "\u001b[1m Total params: \u001b[0m\u001b[38;5;34m63,859\u001b[0m (249.45 KB)\n"
            ],
            "text/html": [
              "<pre style=\"white-space:pre;overflow-x:auto;line-height:normal;font-family:Menlo,'DejaVu Sans Mono',consolas,'Courier New',monospace\"><span style=\"font-weight: bold\"> Total params: </span><span style=\"color: #00af00; text-decoration-color: #00af00\">63,859</span> (249.45 KB)\n",
              "</pre>\n"
            ]
          },
          "metadata": {}
        },
        {
          "output_type": "display_data",
          "data": {
            "text/plain": [
              "\u001b[1m Trainable params: \u001b[0m\u001b[38;5;34m63,859\u001b[0m (249.45 KB)\n"
            ],
            "text/html": [
              "<pre style=\"white-space:pre;overflow-x:auto;line-height:normal;font-family:Menlo,'DejaVu Sans Mono',consolas,'Courier New',monospace\"><span style=\"font-weight: bold\"> Trainable params: </span><span style=\"color: #00af00; text-decoration-color: #00af00\">63,859</span> (249.45 KB)\n",
              "</pre>\n"
            ]
          },
          "metadata": {}
        },
        {
          "output_type": "display_data",
          "data": {
            "text/plain": [
              "\u001b[1m Non-trainable params: \u001b[0m\u001b[38;5;34m0\u001b[0m (0.00 B)\n"
            ],
            "text/html": [
              "<pre style=\"white-space:pre;overflow-x:auto;line-height:normal;font-family:Menlo,'DejaVu Sans Mono',consolas,'Courier New',monospace\"><span style=\"font-weight: bold\"> Non-trainable params: </span><span style=\"color: #00af00; text-decoration-color: #00af00\">0</span> (0.00 B)\n",
              "</pre>\n"
            ]
          },
          "metadata": {}
        }
      ],
      "source": [
        "model = Sequential()\n",
        "\n",
        "\n",
        "model.add(TimeDistributed(CategoryEncoding(num_tokens=vocab_size, output_mode = \"one_hot\"),input_shape=(None,1)))\n",
        "\n",
        "#SimpleRNN\n",
        "model.add(SimpleRNN(200, return_sequences=True, dropout=0.1, recurrent_dropout=0.1 ))\n",
        "\n",
        "#LSTM\n",
        "#model.add(LSTM(100, return_sequences=True, dropout=0.1, recurrent_dropout=0.1))\n",
        "\n",
        "#GRU\n",
        "#model.add(GRU(200, return_sequences=True, dropout=0.1, recurrent_dropout=0.1))\n",
        "\n",
        "model.add(Dense(vocab_size, activation='softmax'))\n",
        "#model.compile(loss='sparse_categorical_crossentropy', optimizer='rmsprop')\n",
        "model.compile(loss='sparse_categorical_crossentropy', optimizer='adam')\n",
        "\n",
        "model.summary()"
      ]
    },
    {
      "cell_type": "markdown",
      "metadata": {
        "id": "GmJWNyxQwfCE"
      },
      "source": [
        "\n",
        "### Definir el modelo"
      ]
    },
    {
      "cell_type": "markdown",
      "metadata": {
        "id": "YWK3z85sQfUe"
      },
      "source": [
        "Dado que por el momento no hay implementaciones adecuadas de la perplejidad que puedan operar en tiempo de entrenamiento, armaremos un Callback *ad-hoc* que la calcule en cada epoch.\n",
        "\n",
        "**Nota**: un Callback es una rutina gatillada por algún evento, son muy útiles para relevar datos en diferentes momentos del desarrollo del modelo. En este caso queremos hacer un cálculo cada vez que termina una epoch de entrenamiento."
      ]
    },
    {
      "cell_type": "code",
      "execution_count": 24,
      "metadata": {
        "id": "zUHX3r5JD-MG"
      },
      "outputs": [],
      "source": [
        "class PplCallback(keras.callbacks.Callback):\n",
        "\n",
        "    '''\n",
        "    Este callback es una solución ad-hoc para calcular al final de cada epoch de\n",
        "    entrenamiento la métrica de Perplejidad sobre un conjunto de datos de validación.\n",
        "    La perplejidad es una métrica cuantitativa para evaluar la calidad de la generación de secuencias.\n",
        "    Además implementa la finalización del entrenamiento (Early Stopping)\n",
        "    si la perplejidad no mejora después de `patience` epochs.\n",
        "    '''\n",
        "\n",
        "    def __init__(self, val_data, history_ppl,patience=5):\n",
        "      # El callback lo inicializamos con secuencias de validación sobre las cuales\n",
        "      # mediremos la perplejidad\n",
        "      self.val_data = val_data\n",
        "\n",
        "      self.target = []\n",
        "      self.padded = []\n",
        "\n",
        "      count = 0\n",
        "      self.info = []\n",
        "      self.min_score = np.inf\n",
        "      self.patience_counter = 0\n",
        "      self.patience = patience\n",
        "\n",
        "      # nos movemos en todas las secuencias de los datos de validación\n",
        "      for seq in self.val_data:\n",
        "\n",
        "        len_seq = len(seq)\n",
        "        # armamos todas las subsecuencias\n",
        "        subseq = [seq[:i] for i in range(1,len_seq)]\n",
        "        self.target.extend([seq[i] for i in range(1,len_seq)])\n",
        "\n",
        "        if len(subseq)!=0:\n",
        "\n",
        "          self.padded.append(pad_sequences(subseq, maxlen=max_context_size, padding='pre'))\n",
        "\n",
        "          self.info.append((count,count+len_seq))\n",
        "          count += len_seq\n",
        "\n",
        "      self.padded = np.vstack(self.padded)\n",
        "\n",
        "\n",
        "    def on_epoch_end(self, epoch, logs=None):\n",
        "\n",
        "        # en `scores` iremos guardando la perplejidad de cada secuencia\n",
        "        scores = []\n",
        "\n",
        "        predictions = self.model.predict(self.padded,verbose=0)\n",
        "\n",
        "        # para cada secuencia de validación\n",
        "        for start,end in self.info:\n",
        "\n",
        "          # en `probs` iremos guardando las probabilidades de los términos target\n",
        "          probs = [predictions[idx_seq,-1,idx_vocab] for idx_seq, idx_vocab in zip(range(start,end),self.target[start:end])]\n",
        "\n",
        "          # calculamos la perplejidad por medio de logaritmos\n",
        "          scores.append(np.exp(-np.sum(np.log(probs))/(end-start)))\n",
        "\n",
        "        # promediamos todos los scores e imprimimos el valor promedio\n",
        "        current_score = np.mean(scores)\n",
        "        history_ppl.append(current_score)\n",
        "        print(f'\\n mean perplexity: {current_score} \\n')\n",
        "\n",
        "        # chequeamos si tenemos que detener el entrenamiento\n",
        "        if current_score < self.min_score:\n",
        "          self.min_score = current_score\n",
        "          self.model.save(\"my_model.keras\")\n",
        "          print(\"Saved new model!\")\n",
        "          self.patience_counter = 0\n",
        "        else:\n",
        "          self.patience_counter += 1\n",
        "          if self.patience_counter == self.patience:\n",
        "            print(\"Stopping training...\")\n",
        "            self.model.stop_training = True\n"
      ]
    },
    {
      "cell_type": "markdown",
      "metadata": {
        "id": "8HBZIwR0gruA"
      },
      "source": [
        "### Entrenamiento"
      ]
    },
    {
      "cell_type": "code",
      "execution_count": 25,
      "metadata": {
        "id": "oQq1PHDkxDvN",
        "colab": {
          "base_uri": "https://localhost:8080/"
        },
        "outputId": "da3e0e1f-a6bc-47b2-b0a5-7ea190ce3543"
      },
      "outputs": [
        {
          "output_type": "stream",
          "name": "stdout",
          "text": [
            "Epoch 1/20\n",
            "\u001b[1m438/438\u001b[0m \u001b[32m━━━━━━━━━━━━━━━━━━━━\u001b[0m\u001b[37m\u001b[0m \u001b[1m0s\u001b[0m 17ms/step - loss: 2.6986\n",
            " mean perplexity: 8.192519969153173 \n",
            "\n",
            "Saved new model!\n",
            "\u001b[1m438/438\u001b[0m \u001b[32m━━━━━━━━━━━━━━━━━━━━\u001b[0m\u001b[37m\u001b[0m \u001b[1m23s\u001b[0m 36ms/step - loss: 2.6978\n",
            "Epoch 2/20\n",
            "\u001b[1m436/438\u001b[0m \u001b[32m━━━━━━━━━━━━━━━━━━━\u001b[0m\u001b[37m━\u001b[0m \u001b[1m0s\u001b[0m 9ms/step - loss: 1.9940\n",
            " mean perplexity: 7.139931156797316 \n",
            "\n",
            "Saved new model!\n",
            "\u001b[1m438/438\u001b[0m \u001b[32m━━━━━━━━━━━━━━━━━━━━\u001b[0m\u001b[37m\u001b[0m \u001b[1m6s\u001b[0m 14ms/step - loss: 1.9936\n",
            "Epoch 3/20\n",
            "\u001b[1m435/438\u001b[0m \u001b[32m━━━━━━━━━━━━━━━━━━━\u001b[0m\u001b[37m━\u001b[0m \u001b[1m0s\u001b[0m 9ms/step - loss: 1.8238\n",
            " mean perplexity: 6.611570035369651 \n",
            "\n",
            "Saved new model!\n",
            "\u001b[1m438/438\u001b[0m \u001b[32m━━━━━━━━━━━━━━━━━━━━\u001b[0m\u001b[37m\u001b[0m \u001b[1m10s\u001b[0m 14ms/step - loss: 1.8235\n",
            "Epoch 4/20\n",
            "\u001b[1m434/438\u001b[0m \u001b[32m━━━━━━━━━━━━━━━━━━━\u001b[0m\u001b[37m━\u001b[0m \u001b[1m0s\u001b[0m 10ms/step - loss: 1.7192\n",
            " mean perplexity: 6.3309584856033325 \n",
            "\n",
            "Saved new model!\n",
            "\u001b[1m438/438\u001b[0m \u001b[32m━━━━━━━━━━━━━━━━━━━━\u001b[0m\u001b[37m\u001b[0m \u001b[1m10s\u001b[0m 15ms/step - loss: 1.7190\n",
            "Epoch 5/20\n",
            "\u001b[1m433/438\u001b[0m \u001b[32m━━━━━━━━━━━━━━━━━━━\u001b[0m\u001b[37m━\u001b[0m \u001b[1m0s\u001b[0m 9ms/step - loss: 1.6548\n",
            " mean perplexity: 6.202309093429047 \n",
            "\n",
            "Saved new model!\n",
            "\u001b[1m438/438\u001b[0m \u001b[32m━━━━━━━━━━━━━━━━━━━━\u001b[0m\u001b[37m\u001b[0m \u001b[1m7s\u001b[0m 15ms/step - loss: 1.6546\n",
            "Epoch 6/20\n",
            "\u001b[1m438/438\u001b[0m \u001b[32m━━━━━━━━━━━━━━━━━━━━\u001b[0m\u001b[37m\u001b[0m \u001b[1m0s\u001b[0m 10ms/step - loss: 1.6122\n",
            " mean perplexity: 6.111603935945381 \n",
            "\n",
            "Saved new model!\n",
            "\u001b[1m438/438\u001b[0m \u001b[32m━━━━━━━━━━━━━━━━━━━━\u001b[0m\u001b[37m\u001b[0m \u001b[1m10s\u001b[0m 16ms/step - loss: 1.6122\n",
            "Epoch 7/20\n",
            "\u001b[1m438/438\u001b[0m \u001b[32m━━━━━━━━━━━━━━━━━━━━\u001b[0m\u001b[37m\u001b[0m \u001b[1m0s\u001b[0m 10ms/step - loss: 1.5828\n",
            " mean perplexity: 6.085159383931206 \n",
            "\n",
            "Saved new model!\n",
            "\u001b[1m438/438\u001b[0m \u001b[32m━━━━━━━━━━━━━━━━━━━━\u001b[0m\u001b[37m\u001b[0m \u001b[1m10s\u001b[0m 16ms/step - loss: 1.5828\n",
            "Epoch 8/20\n",
            "\u001b[1m436/438\u001b[0m \u001b[32m━━━━━━━━━━━━━━━━━━━\u001b[0m\u001b[37m━\u001b[0m \u001b[1m0s\u001b[0m 9ms/step - loss: 1.5590\n",
            " mean perplexity: 6.042322338206096 \n",
            "\n",
            "Saved new model!\n",
            "\u001b[1m438/438\u001b[0m \u001b[32m━━━━━━━━━━━━━━━━━━━━\u001b[0m\u001b[37m\u001b[0m \u001b[1m10s\u001b[0m 14ms/step - loss: 1.5590\n",
            "Epoch 9/20\n",
            "\u001b[1m433/438\u001b[0m \u001b[32m━━━━━━━━━━━━━━━━━━━\u001b[0m\u001b[37m━\u001b[0m \u001b[1m0s\u001b[0m 9ms/step - loss: 1.5437\n",
            " mean perplexity: 5.989739319074501 \n",
            "\n",
            "Saved new model!\n",
            "\u001b[1m438/438\u001b[0m \u001b[32m━━━━━━━━━━━━━━━━━━━━\u001b[0m\u001b[37m\u001b[0m \u001b[1m7s\u001b[0m 15ms/step - loss: 1.5437\n",
            "Epoch 10/20\n",
            "\u001b[1m434/438\u001b[0m \u001b[32m━━━━━━━━━━━━━━━━━━━\u001b[0m\u001b[37m━\u001b[0m \u001b[1m0s\u001b[0m 9ms/step - loss: 1.5305\n",
            " mean perplexity: 6.036504836915766 \n",
            "\n",
            "\u001b[1m438/438\u001b[0m \u001b[32m━━━━━━━━━━━━━━━━━━━━\u001b[0m\u001b[37m\u001b[0m \u001b[1m7s\u001b[0m 15ms/step - loss: 1.5305\n",
            "Epoch 11/20\n",
            "\u001b[1m438/438\u001b[0m \u001b[32m━━━━━━━━━━━━━━━━━━━━\u001b[0m\u001b[37m\u001b[0m \u001b[1m0s\u001b[0m 9ms/step - loss: 1.5179\n",
            " mean perplexity: 6.028822672019884 \n",
            "\n",
            "\u001b[1m438/438\u001b[0m \u001b[32m━━━━━━━━━━━━━━━━━━━━\u001b[0m\u001b[37m\u001b[0m \u001b[1m10s\u001b[0m 15ms/step - loss: 1.5179\n",
            "Epoch 12/20\n",
            "\u001b[1m437/438\u001b[0m \u001b[32m━━━━━━━━━━━━━━━━━━━\u001b[0m\u001b[37m━\u001b[0m \u001b[1m0s\u001b[0m 9ms/step - loss: 1.5095\n",
            " mean perplexity: 6.118941307067871 \n",
            "\n",
            "\u001b[1m438/438\u001b[0m \u001b[32m━━━━━━━━━━━━━━━━━━━━\u001b[0m\u001b[37m\u001b[0m \u001b[1m10s\u001b[0m 15ms/step - loss: 1.5095\n",
            "Epoch 13/20\n",
            "\u001b[1m437/438\u001b[0m \u001b[32m━━━━━━━━━━━━━━━━━━━\u001b[0m\u001b[37m━\u001b[0m \u001b[1m0s\u001b[0m 9ms/step - loss: 1.5035\n",
            " mean perplexity: 6.1391570070414865 \n",
            "\n",
            "\u001b[1m438/438\u001b[0m \u001b[32m━━━━━━━━━━━━━━━━━━━━\u001b[0m\u001b[37m\u001b[0m \u001b[1m7s\u001b[0m 15ms/step - loss: 1.5035\n",
            "Epoch 14/20\n",
            "\u001b[1m438/438\u001b[0m \u001b[32m━━━━━━━━━━━━━━━━━━━━\u001b[0m\u001b[37m\u001b[0m \u001b[1m0s\u001b[0m 9ms/step - loss: 1.4978\n",
            " mean perplexity: 6.16813864291293 \n",
            "\n",
            "Stopping training...\n",
            "\u001b[1m438/438\u001b[0m \u001b[32m━━━━━━━━━━━━━━━━━━━━\u001b[0m\u001b[37m\u001b[0m \u001b[1m7s\u001b[0m 15ms/step - loss: 1.4978\n"
          ]
        }
      ],
      "source": [
        "# fiteamos, nótese el agregado del callback con su inicialización. El batch_size lo podemos seleccionar a mano\n",
        "# en general, lo mejor es escoger el batch más grande posible que minimice el tiempo de cada época.\n",
        "# En la variable `history_ppl` se guardarán los valores de perplejidad para cada época.\n",
        "history_ppl = []\n",
        "hist = model.fit(X, y, epochs=20, callbacks=[PplCallback(tokenized_sentences_val,history_ppl)], batch_size=256)"
      ]
    },
    {
      "cell_type": "code",
      "execution_count": 26,
      "metadata": {
        "id": "K30JHB3Dv-mx",
        "colab": {
          "base_uri": "https://localhost:8080/",
          "height": 430
        },
        "outputId": "72cd0c81-1460-43f6-c964-f52e1a26eab7"
      },
      "outputs": [
        {
          "output_type": "display_data",
          "data": {
            "text/plain": [
              "<Figure size 640x480 with 1 Axes>"
            ],
            "image/png": "[encoded data removed]"
          },
          "metadata": {}
        }
      ],
      "source": [
        "import matplotlib.pyplot as plt\n",
        "import seaborn as sns\n",
        "\n",
        "# Entrenamiento\n",
        "epoch_count = range(1, len(history_ppl) + 1)\n",
        "sns.lineplot(x=epoch_count,  y=history_ppl)\n",
        "plt.show()"
      ]
    },
    {
      "cell_type": "code",
      "execution_count": 27,
      "metadata": {
        "id": "Rhy5hZN38qfO"
      },
      "outputs": [],
      "source": [
        "# Cargamos el mejor modelo guardado del entrenamiento para hacer inferencia\n",
        "model = keras.models.load_model('my_model.keras')"
      ]
    },
    {
      "cell_type": "markdown",
      "metadata": {
        "id": "KN6Fg_BsxJe6"
      },
      "source": [
        "\n",
        "### Predicción del próximo caracter"
      ]
    },
    {
      "cell_type": "code",
      "execution_count": 28,
      "metadata": {
        "id": "IBvKHFPmzpy2",
        "colab": {
          "base_uri": "https://localhost:8080/"
        },
        "outputId": "ff62c523-053e-467c-b07f-b696b4c7469b"
      },
      "outputs": [
        {
          "output_type": "stream",
          "name": "stdout",
          "text": [
            "\u001b[2K   \u001b[90m━━━━━━━━━━━━━━━━━━━━━━━━━━━━━━━━━━━━━━━━\u001b[0m \u001b[32m54.2/54.2 MB\u001b[0m \u001b[31m15.3 MB/s\u001b[0m eta \u001b[36m0:00:00\u001b[0m\n",
            "\u001b[2K   \u001b[90m━━━━━━━━━━━━━━━━━━━━━━━━━━━━━━━━━━━━━━━━\u001b[0m \u001b[32m323.1/323.1 kB\u001b[0m \u001b[31m28.2 MB/s\u001b[0m eta \u001b[36m0:00:00\u001b[0m\n",
            "\u001b[2K   \u001b[90m━━━━━━━━━━━━━━━━━━━━━━━━━━━━━━━━━━━━━━━━\u001b[0m \u001b[32m95.2/95.2 kB\u001b[0m \u001b[31m9.4 MB/s\u001b[0m eta \u001b[36m0:00:00\u001b[0m\n",
            "\u001b[2K   \u001b[90m━━━━━━━━━━━━━━━━━━━━━━━━━━━━━━━━━━━━━━━━\u001b[0m \u001b[32m11.5/11.5 MB\u001b[0m \u001b[31m128.7 MB/s\u001b[0m eta \u001b[36m0:00:00\u001b[0m\n",
            "\u001b[2K   \u001b[90m━━━━━━━━━━━━━━━━━━━━━━━━━━━━━━━━━━━━━━━━\u001b[0m \u001b[32m72.0/72.0 kB\u001b[0m \u001b[31m6.5 MB/s\u001b[0m eta \u001b[36m0:00:00\u001b[0m\n",
            "\u001b[2K   \u001b[90m━━━━━━━━━━━━━━━━━━━━━━━━━━━━━━━━━━━━━━━━\u001b[0m \u001b[32m62.5/62.5 kB\u001b[0m \u001b[31m6.2 MB/s\u001b[0m eta \u001b[36m0:00:00\u001b[0m\n",
            "\u001b[?25h"
          ]
        }
      ],
      "source": [
        "# Se puede usar gradio para probar el modelo\n",
        "# Gradio es una herramienta muy útil para crear interfaces para ensayar modelos\n",
        "# https://gradio.app/\n",
        "\n",
        "!pip install -q gradio"
      ]
    },
    {
      "cell_type": "code",
      "execution_count": 29,
      "metadata": {
        "id": "HNyBykvhzs7-",
        "colab": {
          "base_uri": "https://localhost:8080/",
          "height": 705
        },
        "outputId": "3c17fda5-35c9-4b92-8b6f-1ce41400fa26"
      },
      "outputs": [
        {
          "output_type": "stream",
          "name": "stdout",
          "text": [
            "It looks like you are running Gradio on a hosted a Jupyter notebook. For the Gradio app to work, sharing must be enabled. Automatically setting `share=True` (you can turn this off by setting `share=False` in `launch()` explicitly).\n",
            "\n",
            "Colab notebook detected. This cell will run indefinitely so that you can see errors and logs. To turn off, set debug=False in launch().\n",
            "* Running on public URL: https://a6b6cdffedd4d6d03a.gradio.live\n",
            "\n",
            "This share link expires in 1 week. For free permanent hosting and GPU upgrades, run `gradio deploy` from the terminal in the working directory to deploy to Hugging Face Spaces (https://huggingface.co/spaces)\n"
          ]
        },
        {
          "output_type": "display_data",
          "data": {
            "text/plain": [
              "<IPython.core.display.HTML object>"
            ],
            "text/html": [
              "<div><iframe src=\"https://a6b6cdffedd4d6d03a.gradio.live\" width=\"100%\" height=\"500\" allow=\"autoplay; camera; microphone; clipboard-read; clipboard-write;\" frameborder=\"0\" allowfullscreen></iframe></div>"
            ]
          },
          "metadata": {}
        },
        {
          "output_type": "stream",
          "name": "stdout",
          "text": [
            "\u001b[1m1/1\u001b[0m \u001b[32m━━━━━━━━━━━━━━━━━━━━\u001b[0m\u001b[37m\u001b[0m \u001b[1m3s\u001b[0m 3s/step\n",
            "Keyboard interruption in main thread... closing server.\n",
            "Killing tunnel 127.0.0.1:7860 <> https://a6b6cdffedd4d6d03a.gradio.live\n"
          ]
        },
        {
          "output_type": "execute_result",
          "data": {
            "text/plain": []
          },
          "metadata": {},
          "execution_count": 29
        }
      ],
      "source": [
        "import gradio as gr\n",
        "\n",
        "def model_response(human_text):\n",
        "\n",
        "    # Encodeamos\n",
        "    encoded = [char2idx[ch] for ch in human_text.lower() ]\n",
        "    # Si tienen distinto largo\n",
        "    encoded = pad_sequences([encoded], maxlen=max_context_size, padding='pre')\n",
        "\n",
        "    # Predicción softmax\n",
        "    y_hat = np.argmax(model.predict(encoded)[0,-1,:])\n",
        "\n",
        "\n",
        "    # Debemos buscar en el vocabulario el caracter\n",
        "    # que corresopnde al indice (y_hat) predicho por le modelo\n",
        "    out_word = ''\n",
        "    out_word = idx2char[y_hat]\n",
        "\n",
        "    # Agrego la palabra a la frase predicha\n",
        "    return human_text + out_word\n",
        "\n",
        "iface = gr.Interface(\n",
        "    fn=model_response,\n",
        "    inputs=[\"textbox\"],\n",
        "    outputs=\"text\")\n",
        "\n",
        "iface.launch(debug=True)"
      ]
    },
    {
      "cell_type": "markdown",
      "metadata": {
        "id": "mCeMWWupxN1-"
      },
      "source": [
        "### Generación de secuencias"
      ]
    },
    {
      "cell_type": "code",
      "execution_count": 30,
      "metadata": {
        "id": "bwbS_pfhxvB3"
      },
      "outputs": [],
      "source": [
        "def generate_seq(model, seed_text, max_length, n_words):\n",
        "    \"\"\"\n",
        "        Exec model sequence prediction\n",
        "\n",
        "        Args:\n",
        "            model (keras): modelo entrenado\n",
        "            seed_text (string): texto de entrada (input_seq)\n",
        "            max_length (int): máxima longitud de la sequencia de entrada\n",
        "            n_words (int): números de caracteres a agregar a la sequencia de entrada\n",
        "        returns:\n",
        "            output_text (string): sentencia con las \"n_words\" agregadas\n",
        "    \"\"\"\n",
        "    output_text = seed_text\n",
        "\t# generate a fixed number of words\n",
        "    for _ in range(n_words):\n",
        "\t\t# Encodeamos\n",
        "        encoded = [char2idx[ch] for ch in output_text.lower() ]\n",
        "\t\t# Si tienen distinto largo\n",
        "        encoded = pad_sequences([encoded], maxlen=max_length, padding='pre')\n",
        "\n",
        "\t\t# Predicción softmax\n",
        "        y_hat = np.argmax(model.predict(encoded,verbose=0)[0,-1,:])\n",
        "\t\t# Vamos concatenando las predicciones\n",
        "        out_word = ''\n",
        "\n",
        "        out_word = idx2char[y_hat]\n",
        "\n",
        "\t\t# Agrego las palabras a la frase predicha\n",
        "        output_text += out_word\n",
        "    return output_text"
      ]
    },
    {
      "cell_type": "code",
      "execution_count": 31,
      "metadata": {
        "id": "JoFqRC5pxzqS",
        "colab": {
          "base_uri": "https://localhost:8080/",
          "height": 36
        },
        "outputId": "7dbf6295-2ed2-46d5-957c-864626b1a9f4"
      },
      "outputs": [
        {
          "output_type": "execute_result",
          "data": {
            "text/plain": [
              "'gregorio samsa se despertó en la habitación de la habitación de la'"
            ],
            "application/vnd.google.colaboratory.intrinsic+json": {
              "type": "string"
            }
          },
          "metadata": {},
          "execution_count": 31
        }
      ],
      "source": [
        "input_text='gregorio samsa se despertó'\n",
        "\n",
        "generate_seq(model, input_text, max_length=max_context_size, n_words=40)"
      ]
    },
    {
      "cell_type": "markdown",
      "metadata": {
        "id": "drJ6xn5qW1Hl"
      },
      "source": [
        "###  Beam search y muestreo aleatorio"
      ]
    },
    {
      "cell_type": "code",
      "execution_count": 32,
      "metadata": {
        "id": "_vovn9XZW1Hl"
      },
      "outputs": [],
      "source": [
        "# funcionalidades para hacer encoding y decoding\n",
        "\n",
        "def encode(text,max_length=max_context_size):\n",
        "\n",
        "    encoded = [char2idx[ch] for ch in text]\n",
        "    encoded = pad_sequences([encoded], maxlen=max_length, padding='pre')\n",
        "\n",
        "    return encoded\n",
        "\n",
        "def decode(seq):\n",
        "    return ''.join([idx2char[ch] for ch in seq])"
      ]
    },
    {
      "cell_type": "code",
      "execution_count": 33,
      "metadata": {
        "id": "I_lZiQwkW1Hl"
      },
      "outputs": [],
      "source": [
        "from scipy.special import softmax\n",
        "\n",
        "# función que selecciona candidatos para el beam search\n",
        "def select_candidates(pred,num_beams,vocab_size,history_probs,history_tokens,temp,mode):\n",
        "\n",
        "  # colectar todas las probabilidades para la siguiente búsqueda\n",
        "  pred_large = []\n",
        "\n",
        "  for idx,pp in enumerate(pred):\n",
        "    pred_large.extend(np.log(pp+1E-10)+history_probs[idx])\n",
        "\n",
        "  pred_large = np.array(pred_large)\n",
        "\n",
        "  # criterio de selección\n",
        "  if mode == 'det':\n",
        "    idx_select = np.argsort(pred_large)[::-1][:num_beams] # beam search determinista\n",
        "  elif mode == 'sto':\n",
        "    idx_select = np.random.choice(np.arange(pred_large.shape[0]), num_beams, p=softmax(pred_large/temp)) # beam search con muestreo aleatorio\n",
        "  else:\n",
        "    raise ValueError(f'Wrong selection mode. {mode} was given. det and sto are supported.')\n",
        "\n",
        "  # traducir a índices de token en el vocabulario\n",
        "  new_history_tokens = np.concatenate((np.array(history_tokens)[idx_select//vocab_size],\n",
        "                        np.array([idx_select%vocab_size]).T),\n",
        "                      axis=1)\n",
        "\n",
        "  # devolver el producto de las probabilidades (log) y la secuencia de tokens seleccionados\n",
        "  return pred_large[idx_select.astype(int)], new_history_tokens.astype(int)\n",
        "\n",
        "\n",
        "def beam_search(model,num_beams,num_words,input,temp=1,mode='det'):\n",
        "\n",
        "    # first iteration\n",
        "\n",
        "    # encode\n",
        "    encoded = encode(input)\n",
        "\n",
        "    # first prediction\n",
        "    y_hat = model.predict(encoded,verbose=0)[0,-1,:]\n",
        "\n",
        "    # get vocabulary size\n",
        "    vocab_size = y_hat.shape[0]\n",
        "\n",
        "    # initialize history\n",
        "    history_probs = [0]*num_beams\n",
        "    history_tokens = [encoded[0]]*num_beams\n",
        "\n",
        "    # select num_beams candidates\n",
        "    history_probs, history_tokens = select_candidates([y_hat],\n",
        "                                        num_beams,\n",
        "                                        vocab_size,\n",
        "                                        history_probs,\n",
        "                                        history_tokens,\n",
        "                                        temp,\n",
        "                                        mode)\n",
        "\n",
        "    # beam search loop\n",
        "    for i in range(num_words-1):\n",
        "\n",
        "      preds = []\n",
        "\n",
        "      for hist in history_tokens:\n",
        "\n",
        "        # actualizar secuencia de tokens\n",
        "        input_update = np.array([hist[i+1:]]).copy()\n",
        "\n",
        "        # predicción\n",
        "        y_hat = model.predict(input_update,verbose=0)[0,-1,:]\n",
        "\n",
        "        preds.append(y_hat)\n",
        "\n",
        "      history_probs, history_tokens = select_candidates(preds,\n",
        "                                                        num_beams,\n",
        "                                                        vocab_size,\n",
        "                                                        history_probs,\n",
        "                                                        history_tokens,\n",
        "                                                        temp,\n",
        "                                                        mode)\n",
        "\n",
        "    return history_tokens[:,-(len(input)+num_words):]"
      ]
    },
    {
      "cell_type": "code",
      "execution_count": 34,
      "metadata": {
        "id": "GeLqAoOYW1Hm"
      },
      "outputs": [],
      "source": [
        "# predicción con beam search\n",
        "salidas = beam_search(model,num_beams=10,num_words=20,input=\"gregorio samsa se despertó una\")"
      ]
    },
    {
      "cell_type": "code",
      "execution_count": 35,
      "metadata": {
        "id": "P8HQoLhw-NYg",
        "colab": {
          "base_uri": "https://localhost:8080/"
        },
        "outputId": "e97e06d1-c45e-46ea-f357-3c9ecb9fb5b5"
      },
      "outputs": [
        {
          "output_type": "execute_result",
          "data": {
            "text/plain": [
              "array([ 7, 34,  9,  7, 55, 34, 25, 55,  3, 57,  8, 14, 57,  8,  3, 57,  9,\n",
              "        3, 19,  9, 57, 35,  9, 34, 26, 56,  3, 28, 42,  8,  3, 12,  9, 16,\n",
              "        3,  9, 42,  3,  4,  8,  3, 13,  8, 44, 25, 26,  8,  6, 25, 56])"
            ]
          },
          "metadata": {},
          "execution_count": 35
        }
      ],
      "source": [
        "salidas[0]"
      ]
    },
    {
      "cell_type": "code",
      "execution_count": 36,
      "metadata": {
        "id": "2S3_I3S1W1Hm",
        "colab": {
          "base_uri": "https://localhost:8080/",
          "height": 36
        },
        "outputId": "2184d279-50a6-4758-f74d-c7efbafd6c7d"
      },
      "outputs": [
        {
          "output_type": "execute_result",
          "data": {
            "text/plain": [
              "'gregorio samsa se despertó una vez en la habitació'"
            ],
            "application/vnd.google.colaboratory.intrinsic+json": {
              "type": "string"
            }
          },
          "metadata": {},
          "execution_count": 36
        }
      ],
      "source": [
        "# veamos las salidas\n",
        "decode(salidas[0])"
      ]
    },
    {
      "cell_type": "markdown",
      "metadata": {
        "id": "Q_LlqmtEW1Hn"
      },
      "source": [
        "#**Resumen Modelos**"
      ]
    },
    {
      "cell_type": "markdown",
      "source": [
        "GROUND TRUTH\n",
        "\n",
        "gregorio samsa se despertó una mañana después de un sueño \\r\\nintranquilo"
      ],
      "metadata": {
        "id": "KouDfKLYDAK0"
      }
    },
    {
      "cell_type": "markdown",
      "source": [
        "#SimpleRNN contexto 100\n",
        "model.add(SimpleRNN(200, return_sequences=True, dropout=0.1, recurrent_dropout=0.1 ))\n",
        " Total params: 63,859 (249.45 KB)\n",
        " Trainable params: 63,859 (249.45 KB)\n",
        " Non-trainable params: 0 (0.00 B)\n",
        "\n",
        "Epoch 11/20\n",
        "437/438 ━━━━━━━━━━━━━━━━━━━━ 0s 14ms/step - loss: 1.5461\n",
        " mean perplexity: 6.271519294599208\n",
        "\n",
        "Stopping training...\n",
        "438/438 ━━━━━━━━━━━━━━━━━━━━ 7s 17ms/step - loss: 1.5461\n",
        "\n",
        "Generacion de secuencia\n",
        "\n",
        "gregorio samsa se despertó de la cama a su habitación de la cabeza\n",
        "\n",
        "Beam search y muestreo aleatorio\n",
        "\n",
        "gregorio samsa se despertó una gregorio se encontr"
      ],
      "metadata": {
        "id": "HsQOPV5rcdzT"
      }
    },
    {
      "cell_type": "markdown",
      "source": [
        " #SimpleRNN  contexto 60\n",
        "\n",
        "model.add(SimpleRNN(200, return_sequences=True, dropout=0.1, recurrent_dropout=0.1 ))\n",
        "\n",
        "Total params: 63,859 (249.45 KB)\n",
        " Trainable params: 63,859 (249.45 KB)\n",
        " Non-trainable params: 0 (0.00 B)\n",
        "\n",
        " Epoch 9/20\n",
        "433/438 ━━━━━━━━━━━━━━━━━━━━ 0s 9ms/step - loss: 1.5437\n",
        " mean perplexity: 5.989739319074501\n",
        "\n",
        "Saved new model!\n",
        "438/438 ━━━━━━━━━━━━━━━━━━━━ 7s 15ms/step - loss: 1.5437\n",
        "Epoch 10/20\n",
        "434/438 ━━━━━━━━━━━━━━━━━━━━ 0s 9ms/step - loss: 1.5305\n",
        " mean perplexity: 6.036504836915766\n",
        "\n",
        "Generacion de Secuencia\n",
        "\n",
        " gregorio samsa se despertó en la habitación de la habitación de la\n",
        "\n",
        "Beam search y muestreo aleatorio\n",
        "\n",
        " gregorio samsa se despertó una vez en la habitació"
      ],
      "metadata": {
        "id": "jkOWYXapVNZx"
      }
    },
    {
      "cell_type": "markdown",
      "source": [
        "#LSTM\n",
        "\n",
        "model.add(LSTM(100, return_sequences=True, dropout=0.1, recurrent_dropout=0.1))\n",
        "Puse 100 neuronas para que el total de parametros fueran semejantes. Igualmente el tiempo de entranamiento fue mucho mayor.  \n",
        "\n",
        " Total params: 69,959 (273.28 KB)\n",
        " Trainable params: 69,959 (273.28 KB)\n",
        " Non-trainable params: 0 (0.00 B)\n",
        "\n",
        " Epoch 20/20\n",
        "438/438 ━━━━━━━━━━━━━━━━━━━━ 0s 267ms/step - loss: 1.6964\n",
        " mean perplexity: 6.997034146533749\n",
        "\n",
        "Saved new model!\n",
        "438/438 ━━━━━━━━━━━━━━━━━━━━ 146s 314ms/step - loss: 1.6964\n",
        "\n",
        " Generacion de secuencia\n",
        "\n",
        " gregorio samsa se despertó de la había \\r\\npara en la había \\r\\npara e\n",
        "\n",
        " Beam search y muestreo aleatorio\n",
        "\n",
        " gregorio samsa se despertó una de la habitación de"
      ],
      "metadata": {
        "id": "Uo9HMUMddeKi"
      }
    },
    {
      "cell_type": "markdown",
      "source": [
        "#SimpleRNN + LSTM\n",
        "con 100 nodos y contexto 200. El perplexity empeoro.\n",
        "\n",
        " Total params: 178,359 (696.71 KB)\n",
        " Trainable params: 178,359 (696.71 KB)\n",
        " Non-trainable params: 0 (0.00 B)\n",
        "\n",
        "437/437 ━━━━━━━━━━━━━━━━━━━━ 381s 859ms/step - loss: 1.3584\n",
        "Epoch 9/20\n",
        "437/437 ━━━━━━━━━━━━━━━━━━━━ 0s 831ms/step - loss: 1.3359\n",
        " mean perplexity: 10.602631568908691\n",
        "\n",
        "Stopping training...\n",
        "437/437 ━━━━━━━━━━━━━━━━━━━━ 374s 855ms/step - loss: 1.3359\n",
        "\n",
        "Generacion de la secuencia\n",
        "gregorio samsa se despertó de la cama y en la habitación de la cam\n",
        "\n",
        "Beam search y muestreo aleatorio\n",
        "gregorio samsa se despertó una vez en la habitació"
      ],
      "metadata": {
        "id": "55_uP2LxetqK"
      }
    },
    {
      "cell_type": "markdown",
      "source": [
        "#GRU\n",
        "model.add(GRU(120, return_sequences=True, dropout=0.1, recurrent_dropout=0.1))\n",
        "Puse 120 neuronas para que el total de parametros fueran semejantes. Igualmente el tiempo de entranamiento fue mucho mayor.\n",
        "\n",
        " Total params: 72,299 (282.42 KB)\n",
        " Trainable params: 72,299 (282.42 KB)\n",
        " Non-trainable params: 0 (0.00 B)\n",
        "\n",
        " Epoch 12/20\n",
        "438/438 ━━━━━━━━━━━━━━━━━━━━ 0s 256ms/step - loss: 1.4347\n",
        " mean perplexity: 6.580179724266858\n",
        "\n",
        "Stopping training...\n",
        "438/438 ━━━━━━━━━━━━━━━━━━━━ 148s 303ms/step - loss: 1.4347\n",
        "\n",
        "Generacion de la Secuencia\n",
        "\n",
        "gregorio samsa se despertó a la hermana en la hermana en la herman\n",
        "\n",
        "Beam search y muestreo aleatorio\n",
        "\n",
        "gregorio samsa se despertó una habitación de la he"
      ],
      "metadata": {
        "id": "U1kLigFJ8R51"
      }
    },
    {
      "cell_type": "markdown",
      "source": [
        " #**GRU**\n",
        "\n",
        " Mas nodos 200 y mas contexto 200\n",
        "model.add(GRU(200, return_sequences=True, dropout=0.1, recurrent_dropout=0.1))\n",
        "Puse 200 neuronas para que el total de parametros fueran semejantes. Igualmente el tiempo de entranamiento fue mucho mayor.\n",
        "\n",
        "Total params: 168,459 (658.04 KB)\n",
        " Trainable params: 168,459 (658.04 KB)\n",
        " Non-trainable params: 0 (0.00 B)\n",
        "\n",
        " Epoch 7/20\n",
        "437/437 ━━━━━━━━━━━━━━━━━━━━ 0s 496ms/step - loss: 1.2394\n",
        " mean perplexity: 10.730637550354004\n",
        "\n",
        "Stopping training...\n",
        "437/437 ━━━━━━━━━━━━━━━━━━━━ 265s 520ms/step - loss: 1.2393\n",
        "\n",
        "Generacion de la Secuencia\n",
        " gregorio samsa se despertó a la habitación de la habitación de la\n",
        "Beam search y muestreo aleatorio\n",
        " gregorio samsa se despertó una habitación de la ha\n",
        "\n",
        "\n",
        " El modelo no mejoro. Al contrario la perplejidad empezo a diverger.\n",
        "\n",
        " Probe con Contexto 100 y 200 nodos y el modelo se comporto como el anterior divergio y llego a una perplexity mayor.\n",
        "\n",
        "  Total params: 168,459 (658.04 KB)\n",
        " Trainable params: 168,459 (658.04 KB)\n",
        " Non-trainable params: 0 (0.00 B)\n",
        "\n",
        " 438/438 ━━━━━━━━━━━━━━━━━━━━ 141s 290ms/step - loss: 1.2515\n",
        "Epoch 9/20\n",
        "438/438 ━━━━━━━━━━━━━━━━━━━━ 0s 259ms/step - loss: 1.2139\n",
        " mean perplexity: 7.990786141496364\n",
        "\n",
        "Stopping training...\n",
        "438/438 ━━━━━━━━━━━━━━━━━━━━ 149s 306ms/step - loss: 1.2139\n",
        "\n",
        "Generacion de la Secuencia\n",
        "gregorio samsa se despertó a la madre y la hermana en la madre y l\n",
        "\n",
        "Beam search y muestreo aleatorio\n",
        "gregorio samsa se despertó una puerta de la herman"
      ],
      "metadata": {
        "id": "R3vbk7cnBsxI"
      }
    },
    {
      "cell_type": "markdown",
      "source": [
        "#**Concluciones:**\n",
        "En las series temporales hay una regla 80/20 es decir que solo se puede predecir hasta un 20% del historial que se tiene. Es decir de un contexto de 100 caracteres se podria predecir hasta unos 20. En nuestro caso los modelos solo predecian aceptablemente hasta 1 caracteres para adelante.\n",
        "\n",
        "SimpleRNN A pesar de tener menor profundidad semántica, el modelo SimpleRNN logró la perplejidad mas baja y una secuencia coherente aunque repetitiva. Su velocidad de entrenamiento fue la más rápida.Aumentar el contexto no ayudo a la generalizacion ni mejoro las construcciones gramaticales. Todo lo contrario al bajar el contexto a 60 se mantuvieron los resultados y el modelo convergio mas rapido.\n",
        "\n",
        "LSTM Aunque más potente en teoría, el LSTM presentó la mayor perplejidad de los tres. La secuencia generada fue menos coherente y tendió a bucles gramaticales. Su tiempo de entrenamiento fue significativamente mayor.\n",
        "\n",
        "El GRU ofreció el mejor balance entre rendimiento y calidad generativa. Aunque no alcanzó la secuencia original exacta, produjo construcciones gramaticales mas reales y con mayor consistencia semántica que LSTM o SimpleRNN.\n",
        "\n"
      ],
      "metadata": {
        "id": "Ndta_3MM-Tv3"
      }
    },
    {
      "cell_type": "markdown",
      "source": [
        "Se probo con optimizador ADAM sin lograr mejoras\n",
        "LSTM\n",
        "Epoch 10/20\n",
        "437/438 ━━━━━━━━━━━━━━━━━━━━ 0s 15ms/step - loss: 1.4973\n",
        " mean perplexity: 7.111439708771744\n",
        "\n",
        "Stopping training...\n",
        "438/438 ━━━━━━━━━━━━━━━━━━━━ 8s 17ms/step - loss: 1.4973"
      ],
      "metadata": {
        "id": "APm45v_2DOG7"
      }
    }
  ],
  "metadata": {
    "accelerator": "GPU",
    "colab": {
      "gpuType": "T4",
      "provenance": [],
      "include_colab_link": true
    },
    "kernelspec": {
      "display_name": "Python 3",
      "name": "python3"
    },
    "language_info": {
      "name": "python"
    }
  },
  "nbformat": 4,
  "nbformat_minor": 0
}